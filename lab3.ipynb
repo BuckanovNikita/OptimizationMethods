{
 "cells": [
  {
   "cell_type": "code",
   "execution_count": 1,
   "metadata": {
    "ExecuteTime": {
     "end_time": "2018-10-29T18:47:44.028061Z",
     "start_time": "2018-10-29T18:47:43.512933Z"
    },
    "code_folding": []
   },
   "outputs": [],
   "source": [
    "from sympy import *\n",
    "import numpy as np"
   ]
  },
  {
   "cell_type": "code",
   "execution_count": 2,
   "metadata": {
    "ExecuteTime": {
     "end_time": "2018-10-29T18:47:44.547631Z",
     "start_time": "2018-10-29T18:47:44.538629Z"
    },
    "code_folding": []
   },
   "outputs": [],
   "source": [
    "def gradient_descent(f, sym, x0, alpha = 0.1, eps = 1e-4):\n",
    "    df = np.array([100])\n",
    "    i = 1\n",
    "    it = 1\n",
    "    while eps < np.linalg.norm(df):\n",
    "        df = np.array([f.diff(sym[0]).subs(zip(sym, x0)).evalf(), f.diff(sym[1]).subs(zip(sym, x0)).evalf()]).astype(np.float64)\n",
    "        y = x0 - alpha*df\n",
    "        if f.subs(zip(sym,y)).evalf()<f.subs(zip(sym, x0)).evalf():\n",
    "            x0 = y\n",
    "        else:\n",
    "            alpha = alpha/2\n",
    "        i = i + 4\n",
    "        it = it + 1\n",
    "    return f.subs(zip(sym,x0)).evalf(), x0, i, it"
   ]
  },
  {
   "cell_type": "markdown",
   "metadata": {
    "ExecuteTime": {
     "end_time": "2018-09-28T09:37:56.150605Z",
     "start_time": "2018-09-28T09:37:56.146604Z"
    },
    "code_folding": []
   },
   "source": [
    "def gradient_descent(f, sym, x0, alpha = 0.1, eps = 1e-4):\n",
    "    df = np.array([100,133])\n",
    "    i = 1\n",
    "    it = 1\n",
    "    x0 = ImmutableDenseNDimArray(x0)\n",
    "    while eps < df[0]**2 + df[1]**2:\n",
    "        df = tensor.derive_by_array(f,sym).subs(zip(sym,x0))\n",
    "        y = x0 - df.applyfunc(lambda x: x*alpha)\n",
    "        if f.subs(zip(sym,y)).evalf() < f.subs(zip(sym, x0)).evalf():\n",
    "            x0 = y\n",
    "        else:\n",
    "            alpha = alpha/2\n",
    "        i = i + 4\n",
    "        it = it + 1\n",
    "    return f.subs(zip(sym,x0)).evalf(), x0, i, it"
   ]
  },
  {
   "cell_type": "code",
   "execution_count": 3,
   "metadata": {
    "ExecuteTime": {
     "end_time": "2018-10-29T18:47:45.750417Z",
     "start_time": "2018-10-29T18:47:45.741423Z"
    },
    "code_folding": []
   },
   "outputs": [],
   "source": [
    "def iterative_search(f, sym, a, b, eps=1e-6, delta = 1000):\n",
    "    eps = eps\n",
    "    x0 = a\n",
    "    x1 = a+delta\n",
    "    it = 0\n",
    "    while eps<abs(delta):\n",
    "        x1 = a+delta\n",
    "        while f.subs({sym : x1}).evalf() < f.subs({sym : x0}).evalf() and x1>a and x1<b:\n",
    "            x0 = x1\n",
    "            x1 = x1+delta\n",
    "            it = it + 1\n",
    "        delta = -delta/4\n",
    "    return f.subs({sym : x0}).evalf(), x0, it"
   ]
  },
  {
   "cell_type": "code",
   "execution_count": 4,
   "metadata": {
    "ExecuteTime": {
     "end_time": "2018-10-29T18:47:46.314003Z",
     "start_time": "2018-10-29T18:47:46.307002Z"
    },
    "code_folding": [
     1
    ]
   },
   "outputs": [],
   "source": [
    "def newton_search(f, sym, eps=1e-6):\n",
    "    x0 = iterative_search(f,sym,0,oo,10)[1]\n",
    "    it = 0 \n",
    "    d = diff(f, sym).subs({sym : x0}).evalf()\n",
    "    while eps < abs(d):\n",
    "        x0 = x0 - d/diff(f, sym, 2).subs({sym : x0}).evalf()\n",
    "        it = it + 2\n",
    "        if it>200:\n",
    "            return iterative_search(f,sym,0,oo)\n",
    "        d = diff(f, sym).subs({sym : x0}).evalf()\n",
    "    return f.subs({sym : x0}).evalf(), x0, it"
   ]
  },
  {
   "cell_type": "code",
   "execution_count": 5,
   "metadata": {
    "ExecuteTime": {
     "end_time": "2018-10-29T18:47:46.843525Z",
     "start_time": "2018-10-29T18:47:46.835523Z"
    },
    "code_folding": []
   },
   "outputs": [],
   "source": [
    "def golden_split_search(f, sym, a, b, eps=1e-6):\n",
    "    tau = (np.sqrt(5)-1)/2\n",
    "    x2 = a + tau*(b-a)\n",
    "    x1 = a+b-x2\n",
    "    f1 = f.subs({sym: x1})\n",
    "    f2 = f.subs({sym: x2})\n",
    "    t = 0\n",
    "    while eps < (b-a)/2: \n",
    "        if f.subs({sym: x1})<=f.subs({sym: x2}):\n",
    "            b = x2\n",
    "            x2 = x1\n",
    "            x1 = a+b-x1\n",
    "        else:\n",
    "            a = x1\n",
    "            x1 = x2\n",
    "            x2 = a+b-x2\n",
    "        t = t+1\n",
    "    return f.subs({sym: (a+b)/2}), (a+b)/2, t"
   ]
  },
  {
   "cell_type": "code",
   "execution_count": 6,
   "metadata": {
    "ExecuteTime": {
     "end_time": "2018-10-29T18:47:47.423063Z",
     "start_time": "2018-10-29T18:47:47.414071Z"
    },
    "code_folding": []
   },
   "outputs": [],
   "source": [
    "def full_descent(f, sym, x0, eps=1e-4, minimizer = newton_search):\n",
    "    theta = symbols('theta')\n",
    "    i = 0\n",
    "    it = 0\n",
    "    df = np.array([f.diff(sym[0]).subs(zip(sym, x0)).evalf(), f.diff(sym[1]).subs(zip(sym, x0)).evalf()]).astype(np.float64)\n",
    "    while eps < np.linalg.norm(df):\n",
    "        df = np.array([f.diff(sym[0]).subs(zip(sym, x0)).evalf(), f.diff(sym[1]).subs(zip(sym, x0)).evalf()]).astype(np.float64)\n",
    "        f_ = f.subs(zip(sym, x0-theta*df))\n",
    "        theta_min = minimizer(f_, theta)\n",
    "        x0 = x0 - theta_min[1]*df\n",
    "        i = i + 2 + theta_min[2]\n",
    "        it = it + 1\n",
    "    return f.subs(zip(sym,x0)).evalf(), x0, i, it"
   ]
  },
  {
   "cell_type": "code",
   "execution_count": 7,
   "metadata": {
    "ExecuteTime": {
     "end_time": "2018-10-29T18:47:47.982844Z",
     "start_time": "2018-10-29T18:47:47.968840Z"
    },
    "code_folding": []
   },
   "outputs": [],
   "source": [
    "def ortogonal_descent(f, sym, x0, eps=1e-4, restart = 0, minimizer = lambda x,y: newton_search(x,y), beta = 'v2'):\n",
    "    theta = symbols('theta')\n",
    "    i = 0\n",
    "    it = 0\n",
    "    df = np.array([f.diff(sym[0]).subs(zip(sym, x0)).evalf(16), f.diff(sym[1]).subs(zip(sym, x0)).evalf(16)]).astype(np.float64)\n",
    "    df_1 = 0     \n",
    "    while eps < np.linalg.norm(df):\n",
    "        y = df-df_1\n",
    "        theta_min = minimizer(f.subs(zip(sym, x0-theta*df)), theta)\n",
    "        x0 = x0 - theta_min[1]*df\n",
    "        i = i + 2 + theta_min[2]\n",
    "        s = np.array([f.diff(sym[0]).subs(zip(sym, x0)).evalf(16), f.diff(sym[1]).subs(zip(sym, x0)).evalf(16)]).astype(np.float64)\n",
    "    \n",
    "        if beta == 'v3':\n",
    "            b = (np.linalg.norm(s)/np.linalg.norm(df))**2\n",
    "        elif beta == 'v1':\n",
    "            b = float(re(np.dot(y,s)/np.dot(y, df)))\n",
    "        elif beta == 'v2':\n",
    "            b = float(np.dot(y,s)/(np.linalg.norm(df)**2))\n",
    "        else:\n",
    "            raise Exception(\"Unknown beta type\")\n",
    "        \n",
    "        df_1 = df\n",
    "        df = np.array(-1*s + df*b)\n",
    "        it = it+1\n",
    "        if restart and it%restart == 0:\n",
    "            df = np.array([f.diff(sym[0]).subs(zip(sym, x0)).evalf(16), f.diff(sym[1]).subs(zip(sym, x0)).evalf(16)]).astype(np.float64)\n",
    "    return f.subs(zip(sym, x0)).evalf(16), x0, i, it"
   ]
  },
  {
   "cell_type": "code",
   "execution_count": 8,
   "metadata": {
    "ExecuteTime": {
     "end_time": "2018-10-29T18:47:48.671628Z",
     "start_time": "2018-10-29T18:47:48.667626Z"
    }
   },
   "outputs": [],
   "source": [
    "x1 = symbols('x1')\n",
    "x2 = symbols('x2')\n",
    "theta = symbols('theta')\n",
    "def f(a):\n",
    "    return x1**2+a*x2**2"
   ]
  },
  {
   "cell_type": "markdown",
   "metadata": {},
   "source": [
    "# Задание 2"
   ]
  },
  {
   "cell_type": "code",
   "execution_count": 9,
   "metadata": {
    "ExecuteTime": {
     "end_time": "2018-10-29T18:47:50.104081Z",
     "start_time": "2018-10-29T18:47:49.963056Z"
    },
    "scrolled": false
   },
   "outputs": [
    {
     "data": {
      "text/plain": [
       "((1.20423772806809e-7, array([ 6.80564734e-05, -3.40282367e-04]), 173, 44),\n",
       " (0, array([0, 0], dtype=object), 6, 2),\n",
       " (0, array([0, 0], dtype=object), 4, 1))"
      ]
     },
     "execution_count": 9,
     "metadata": {},
     "output_type": "execute_result"
    }
   ],
   "source": [
    "a = 1\n",
    "eps = 1e-3\n",
    "gradient_descent(f(a), [x1,x2], [1,-5], eps=eps), full_descent(f(a), [x1,x2], [1,-5], eps=eps),\\\n",
    "ortogonal_descent(f(a), [x1,x2], [1,-5], eps=eps)"
   ]
  },
  {
   "cell_type": "code",
   "execution_count": 10,
   "metadata": {
    "ExecuteTime": {
     "end_time": "2018-10-29T18:47:50.659845Z",
     "start_time": "2018-10-29T18:47:50.555821Z"
    },
    "scrolled": true
   },
   "outputs": [
    {
     "data": {
      "text/plain": [
       "((1.02445216110626e-11, array([ 6.27710174e-07, -3.13855087e-06]), 257, 65),\n",
       " (0, array([0, 0], dtype=object), 6, 2),\n",
       " (0, array([0, 0], dtype=object), 4, 1))"
      ]
     },
     "execution_count": 10,
     "metadata": {},
     "output_type": "execute_result"
    }
   ],
   "source": [
    "a = 1\n",
    "eps = 1e-5\n",
    "gradient_descent(f(a), [x1,x2], [1,-5], eps=eps), full_descent(f(a), [x1,x2], [1,-5], eps=eps),\\\n",
    "ortogonal_descent(f(a), [x1,x2], [1,-5], eps=eps)"
   ]
  },
  {
   "cell_type": "code",
   "execution_count": 11,
   "metadata": {
    "ExecuteTime": {
     "end_time": "2018-10-29T18:47:54.762772Z",
     "start_time": "2018-10-29T18:47:51.174960Z"
    },
    "scrolled": true
   },
   "outputs": [
    {
     "data": {
      "text/plain": [
       "((2.44849917188919e-7,\n",
       "  array([ 4.94823117e-004, -2.22698617e-303]),\n",
       "  4877,\n",
       "  1220),\n",
       " (2.49837157123098e-8,\n",
       "  array([0.000158062378978527, 5.05799612696839e-10], dtype=object),\n",
       "  14,\n",
       "  4),\n",
       " (9.947397318971396e-8,\n",
       "  array([0.000315394946343812, 2.01047032472555e-9], dtype=object),\n",
       "  18,\n",
       "  5))"
      ]
     },
     "execution_count": 11,
     "metadata": {},
     "output_type": "execute_result"
    }
   ],
   "source": [
    "a = 250\n",
    "eps = 1e-3\n",
    "gradient_descent(f(a), [x1,x2], [1,-5], eps=eps), full_descent(f(a), [x1,x2], [1,-5], eps=eps),\\\n",
    "ortogonal_descent(f(a), [x1,x2], [1,-5], eps=eps)"
   ]
  },
  {
   "cell_type": "code",
   "execution_count": 12,
   "metadata": {
    "ExecuteTime": {
     "end_time": "2018-10-29T18:48:02.000058Z",
     "start_time": "2018-10-29T18:47:56.122822Z"
    }
   },
   "outputs": [
    {
     "data": {
      "text/plain": [
       "((2.46458570399349e-11,\n",
       "  array([ 4.96445939e-006, -4.94065646e-324]),\n",
       "  7813,\n",
       "  1954),\n",
       " (1.85480468850578e-12, array([3.81713942e-07, 8.26825049e-08]), 420, 12),\n",
       " (3.478776037713882e-14,\n",
       "  array([1.86514771066129e-7, 1.48497590613481e-12], dtype=object),\n",
       "  34,\n",
       "  9))"
      ]
     },
     "execution_count": 12,
     "metadata": {},
     "output_type": "execute_result"
    }
   ],
   "source": [
    "a = 250\n",
    "eps = 1e-5\n",
    "gradient_descent(f(a), [x1,x2], [1,-5], eps=eps), \\\n",
    "full_descent(f(a), [x1,x2], [1,-5], eps=eps, minimizer=lambda x,y: golden_split_search(x,y, 0, 10)),\\\n",
    "ortogonal_descent(f(a), [x1,x2], [1,-5], eps=eps, minimizer=lambda x,y: newton_search(x,y,1e-8))"
   ]
  },
  {
   "cell_type": "code",
   "execution_count": 13,
   "metadata": {
    "ExecuteTime": {
     "end_time": "2018-10-29T18:48:12.866017Z",
     "start_time": "2018-10-29T18:48:02.185101Z"
    }
   },
   "outputs": [
    {
     "data": {
      "text/plain": [
       "((2.48888469898506e-7, array([4.98887232e-04, 4.09995923e-81]), 15601, 3901),\n",
       " (1.59029673086385e-9,\n",
       "  array([3.98785246818414e-5, 7.97570489470198e-12], dtype=object),\n",
       "  14,\n",
       "  4),\n",
       " (6.353819188516023e-9,\n",
       "  array([7.97108473640912e-5, 3.18524712356917e-11], dtype=object),\n",
       "  18,\n",
       "  5))"
      ]
     },
     "execution_count": 13,
     "metadata": {},
     "output_type": "execute_result"
    }
   ],
   "source": [
    "a = 1000\n",
    "eps = 1e-3\n",
    "gradient_descent(f(a), [x1,x2], [1,-5], 2, eps=eps), \\\n",
    "full_descent(f(a), [x1,x2], [1,-5], eps=eps), ortogonal_descent(f(a), [x1,x2], [1,-5], eps=eps)"
   ]
  },
  {
   "cell_type": "code",
   "execution_count": 14,
   "metadata": {
    "ExecuteTime": {
     "end_time": "2018-10-29T18:52:02.324195Z",
     "start_time": "2018-10-29T18:48:13.048054Z"
    }
   },
   "outputs": [
    {
     "data": {
      "text/plain": [
       "((2.49049400608615e-11,\n",
       "  array([4.99048495e-006, 4.94065646e-324]),\n",
       "  31257,\n",
       "  7815),\n",
       " (1.62339895324017e-11, array([4.02146471e-06, 7.86200649e-09]), 18536, 6002),\n",
       " (1.012390119767756e-12,\n",
       "  array([1.27134958014078e-8, -3.18155384488816e-8], dtype=object),\n",
       "  102,\n",
       "  46))"
      ]
     },
     "execution_count": 14,
     "metadata": {},
     "output_type": "execute_result"
    }
   ],
   "source": [
    "a = 1000\n",
    "eps = 1e-5\n",
    "gradient_descent(f(a), [x1,x2], [1,-5], eps=eps),\\\n",
    "full_descent(f(a), [x1,x2], [1,-5], eps=eps,minimizer = lambda x,y: iterative_search(x,y,0,oo,1e-8)),\\\n",
    "ortogonal_descent(f(a), [x1,x2], [1,-5], eps=eps)"
   ]
  },
  {
   "cell_type": "markdown",
   "metadata": {},
   "source": [
    "# Задание 3"
   ]
  },
  {
   "cell_type": "code",
   "execution_count": 15,
   "metadata": {
    "ExecuteTime": {
     "end_time": "2018-10-29T18:52:02.529207Z",
     "start_time": "2018-10-29T18:52:02.524206Z"
    }
   },
   "outputs": [],
   "source": [
    "f = 64*x1**2 + 126*x1*x2 + 64*x2**2 + -10*x1+30*x2 + 13"
   ]
  },
  {
   "cell_type": "code",
   "execution_count": 16,
   "metadata": {
    "ExecuteTime": {
     "end_time": "2018-10-29T18:52:08.533359Z",
     "start_time": "2018-10-29T18:52:02.716215Z"
    }
   },
   "outputs": [
    {
     "data": {
      "text/plain": [
       "((-187.393700546578, array([  9.96028292, -10.03902307]), 3169, 793),\n",
       " (-187.393700784118,\n",
       "  array([9.96058941390778, -10.0393295534509], dtype=object),\n",
       "  46,\n",
       "  12),\n",
       " (-187.3937007173045,\n",
       "  array([9.96044284962962, -10.0391827405086], dtype=object),\n",
       "  162,\n",
       "  41))"
      ]
     },
     "execution_count": 16,
     "metadata": {},
     "output_type": "execute_result"
    }
   ],
   "source": [
    "eps = 1e-3\n",
    "gradient_descent(f, [x1,x2], [1,-5], eps=eps), full_descent(f, [x1,x2], [1,-5], eps=eps),\\\n",
    "ortogonal_descent(f, [x1,x2], [1,-5], eps=eps)"
   ]
  },
  {
   "cell_type": "markdown",
   "metadata": {
    "ExecuteTime": {
     "end_time": "2018-09-28T08:44:22.685693Z",
     "start_time": "2018-09-28T08:44:22.680693Z"
    }
   },
   "source": [
    "# Задание 5"
   ]
  },
  {
   "cell_type": "code",
   "execution_count": 17,
   "metadata": {
    "ExecuteTime": {
     "end_time": "2018-10-29T18:52:32.961231Z",
     "start_time": "2018-10-29T18:52:08.742406Z"
    }
   },
   "outputs": [
    {
     "data": {
      "text/plain": [
       "(1.449594811183616e-6, array([1.00120316, 1.00241224]), 1524, 541)"
      ]
     },
     "execution_count": 17,
     "metadata": {},
     "output_type": "execute_result"
    }
   ],
   "source": [
    "f = 100*(x1**2-x2)**2 + (x1-1)**2\n",
    "eps = 1e-3\n",
    "ortogonal_descent(f, [x1,x2], [-1,1], eps=eps, restart=2, minimizer=lambda x,y: iterative_search(x,y,0,oo,1e-8))"
   ]
  },
  {
   "cell_type": "code",
   "execution_count": 18,
   "metadata": {
    "ExecuteTime": {
     "end_time": "2018-10-29T18:53:04.763310Z",
     "start_time": "2018-10-29T18:52:33.164277Z"
    }
   },
   "outputs": [
    {
     "data": {
      "text/plain": [
       "(9.410831486762589e-7,\n",
       " array([0.999031133874847, 0.998058326307610], dtype=object),\n",
       " 2216,\n",
       " 486)"
      ]
     },
     "execution_count": 18,
     "metadata": {},
     "output_type": "execute_result"
    }
   ],
   "source": [
    "eps = 1e-5\n",
    "ortogonal_descent(f, [x1,x2], [-1,1], restart=5, eps=eps)"
   ]
  },
  {
   "cell_type": "markdown",
   "metadata": {},
   "source": [
    "# Задание 6"
   ]
  },
  {
   "cell_type": "code",
   "execution_count": 19,
   "metadata": {
    "ExecuteTime": {
     "end_time": "2018-10-29T18:53:32.836532Z",
     "start_time": "2018-10-29T18:53:04.978358Z"
    },
    "scrolled": true
   },
   "outputs": [
    {
     "data": {
      "text/plain": [
       "(8.252310691103049e-7, array([1.00090775, 1.00181982]), 2208, 542)"
      ]
     },
     "execution_count": 19,
     "metadata": {},
     "output_type": "execute_result"
    }
   ],
   "source": [
    "eps = 1e-3\n",
    "ortogonal_descent(f, [x1,x2], [-1, 1], eps=eps, restart=1, minimizer=lambda x,y: iterative_search(x,y,0,oo,1e-8))"
   ]
  },
  {
   "cell_type": "code",
   "execution_count": 20,
   "metadata": {
    "ExecuteTime": {
     "end_time": "2018-10-29T18:53:57.497123Z",
     "start_time": "2018-10-29T18:53:33.046103Z"
    },
    "scrolled": true
   },
   "outputs": [
    {
     "data": {
      "text/plain": [
       "(1.449594811183616e-6, array([1.00120316, 1.00241224]), 1524, 541)"
      ]
     },
     "execution_count": 20,
     "metadata": {},
     "output_type": "execute_result"
    }
   ],
   "source": [
    "ortogonal_descent(f, [x1,x2],  [-1, 1], eps=eps,restart=2,  minimizer=lambda x,y: iterative_search(x,y,0,oo,1e-8))"
   ]
  },
  {
   "cell_type": "code",
   "execution_count": 21,
   "metadata": {
    "ExecuteTime": {
     "end_time": "2018-10-29T18:54:15.250457Z",
     "start_time": "2018-10-29T18:53:57.713172Z"
    }
   },
   "outputs": [
    {
     "data": {
      "text/plain": [
       "(8.303642004037187e-6, array([0.99711913, 0.99424007]), 1308, 401)"
      ]
     },
     "execution_count": 21,
     "metadata": {},
     "output_type": "execute_result"
    }
   ],
   "source": [
    "eps = 1e-3\n",
    "ortogonal_descent(f, [x1,x2],  [-1, 1], eps=eps,restart=3, minimizer=lambda x,y: iterative_search(x,y,0,oo,1e-8))"
   ]
  },
  {
   "cell_type": "code",
   "execution_count": 22,
   "metadata": {
    "ExecuteTime": {
     "end_time": "2018-10-29T18:54:29.564757Z",
     "start_time": "2018-10-29T18:54:15.447501Z"
    }
   },
   "outputs": [
    {
     "data": {
      "text/plain": [
       "(5.132800170756114e-6, array([1.00226504, 1.00453032]), 967, 338)"
      ]
     },
     "execution_count": 22,
     "metadata": {},
     "output_type": "execute_result"
    }
   ],
   "source": [
    "eps = 1e-3\n",
    "ortogonal_descent(f, [x1,x2], [-1, 1], eps=eps, restart=4, minimizer=lambda x,y: iterative_search(x,y,0,oo,1e-8))"
   ]
  },
  {
   "cell_type": "code",
   "execution_count": 23,
   "metadata": {
    "ExecuteTime": {
     "end_time": "2018-10-29T18:56:15.019213Z",
     "start_time": "2018-10-29T18:54:29.805810Z"
    },
    "scrolled": true
   },
   "outputs": [
    {
     "data": {
      "text/plain": [
       "(9.904257769490771e-6, array([0.99685615, 0.99370788]), 6832, 2519)"
      ]
     },
     "execution_count": 23,
     "metadata": {},
     "output_type": "execute_result"
    }
   ],
   "source": [
    "eps = 1e-3\n",
    "ortogonal_descent(f, [x1,x2],  [-1, 1], eps=eps, restart=5, minimizer=lambda x,y: iterative_search(x,y,0,oo,1e-8))"
   ]
  },
  {
   "cell_type": "markdown",
   "metadata": {},
   "source": [
    "# Задание 7"
   ]
  },
  {
   "cell_type": "code",
   "execution_count": 24,
   "metadata": {
    "ExecuteTime": {
     "end_time": "2018-10-29T18:56:44.227471Z",
     "start_time": "2018-10-29T18:56:15.234338Z"
    }
   },
   "outputs": [
    {
     "data": {
      "text/plain": [
       "(-187.3937006050728, array([  9.96032724, -10.03906926]), 2906, 795)"
      ]
     },
     "execution_count": 24,
     "metadata": {},
     "output_type": "execute_result"
    }
   ],
   "source": [
    "f = 64*x1**2 + 126*x1*x2 + 64*x2**2 + -10*x1+30*x2 + 13\n",
    "ortogonal_descent(f, [x1,x2], [2, 4], eps=eps, restart=2, minimizer=lambda x,y: iterative_search(x,y,0,oo,1e-4))"
   ]
  },
  {
   "cell_type": "code",
   "execution_count": 25,
   "metadata": {
    "ExecuteTime": {
     "end_time": "2018-10-29T18:57:18.391453Z",
     "start_time": "2018-10-29T18:56:44.425516Z"
    }
   },
   "outputs": [
    {
     "data": {
      "text/plain": [
       "(-187.3937006050728, array([  9.96032724, -10.03906926]), 2906, 795)"
      ]
     },
     "execution_count": 25,
     "metadata": {},
     "output_type": "execute_result"
    }
   ],
   "source": [
    "ortogonal_descent(f, [x1,x2], [2, 4], eps=eps, restart=2, minimizer=lambda x,y: iterative_search(x,y,0,oo,1e-6))"
   ]
  },
  {
   "cell_type": "code",
   "execution_count": 26,
   "metadata": {
    "ExecuteTime": {
     "end_time": "2018-10-29T18:57:59.983796Z",
     "start_time": "2018-10-29T18:57:18.607498Z"
    }
   },
   "outputs": [
    {
     "data": {
      "text/plain": [
       "(-187.3937006050710, array([  9.96032723, -10.03906926]), 2927, 795)"
      ]
     },
     "execution_count": 26,
     "metadata": {},
     "output_type": "execute_result"
    }
   ],
   "source": [
    "ortogonal_descent(f, [x1,x2], [2, 4], eps=eps, restart=2, minimizer=lambda x,y: iterative_search(x,y,0,oo,1e-8))"
   ]
  },
  {
   "cell_type": "code",
   "execution_count": 27,
   "metadata": {
    "ExecuteTime": {
     "end_time": "2018-10-29T18:58:13.218821Z",
     "start_time": "2018-10-29T18:58:00.182837Z"
    }
   },
   "outputs": [
    {
     "data": {
      "text/plain": [
       "(-187.3937005757780, array([  9.96030425, -10.03904525]), 4935, 141)"
      ]
     },
     "execution_count": 27,
     "metadata": {},
     "output_type": "execute_result"
    }
   ],
   "source": [
    "ortogonal_descent(f, [x1,x2],[2, 4], eps=eps, restart=2, minimizer=lambda x,y: golden_split_search(x,y,0,1000,1e-4))"
   ]
  },
  {
   "cell_type": "code",
   "execution_count": 28,
   "metadata": {
    "ExecuteTime": {
     "end_time": "2018-10-29T18:58:17.924465Z",
     "start_time": "2018-10-29T18:58:13.418867Z"
    }
   },
   "outputs": [
    {
     "data": {
      "text/plain": [
       "(-187.3937005807584, array([  9.96030909, -10.03904815]), 1764, 42)"
      ]
     },
     "execution_count": 28,
     "metadata": {},
     "output_type": "execute_result"
    }
   ],
   "source": [
    "ortogonal_descent(f, [x1,x2], [2, 4], eps=eps, restart=2, minimizer=lambda x,y: golden_split_search(x,y,0,1000,1e-6))"
   ]
  },
  {
   "cell_type": "code",
   "execution_count": 29,
   "metadata": {
    "ExecuteTime": {
     "end_time": "2018-10-29T18:58:27.849216Z",
     "start_time": "2018-10-29T18:58:18.137514Z"
    }
   },
   "outputs": [
    {
     "data": {
      "text/plain": [
       "(-187.3937007870372, array([  9.96061639, -10.03935679]), 3740, 85)"
      ]
     },
     "execution_count": 29,
     "metadata": {},
     "output_type": "execute_result"
    }
   ],
   "source": [
    "ortogonal_descent(f, [x1,x2], [2, 4], eps=eps, restart=2, minimizer=lambda x,y: golden_split_search(x,y,0,1000,1e-8))"
   ]
  },
  {
   "cell_type": "markdown",
   "metadata": {
    "ExecuteTime": {
     "end_time": "2018-10-29T18:31:35.413971Z",
     "start_time": "2018-10-29T18:25:17.873Z"
    }
   },
   "source": [
    "# Задание 8"
   ]
  },
  {
   "cell_type": "code",
   "execution_count": 30,
   "metadata": {
    "ExecuteTime": {
     "end_time": "2018-10-29T18:58:28.230302Z",
     "start_time": "2018-10-29T18:58:28.050261Z"
    }
   },
   "outputs": [
    {
     "data": {
      "text/plain": [
       "(5.17370747955689e-9, array([2.99999232, 2.00001853]), 109, 28)"
      ]
     },
     "execution_count": 30,
     "metadata": {},
     "output_type": "execute_result"
    }
   ],
   "source": [
    "f = (x1**2 + x2 - 11)**2 + (x1 + x2**2 -7)**2\n",
    "gradient_descent(f, [x1,x2], [0, 0], eps=eps)"
   ]
  },
  {
   "cell_type": "code",
   "execution_count": 31,
   "metadata": {
    "ExecuteTime": {
     "end_time": "2018-10-29T18:58:31.205974Z",
     "start_time": "2018-10-29T18:58:28.416344Z"
    }
   },
   "outputs": [
    {
     "data": {
      "text/plain": [
       "(9.12152992951906e-11,\n",
       " array([-2.80511662740639, 3.13131175402231], dtype=object),\n",
       " 162,\n",
       " 16)"
      ]
     },
     "execution_count": 31,
     "metadata": {},
     "output_type": "execute_result"
    }
   ],
   "source": [
    "full_descent(f, [x1,x2], [0, 0], eps=eps)"
   ]
  },
  {
   "cell_type": "code",
   "execution_count": 32,
   "metadata": {
    "ExecuteTime": {
     "end_time": "2018-10-29T18:58:35.315904Z",
     "start_time": "2018-10-29T18:58:31.414022Z"
    }
   },
   "outputs": [
    {
     "data": {
      "text/plain": [
       "(1.166759836827425e-9,\n",
       " array([-3.77931124327955, -3.28318128268068], dtype=object),\n",
       " 184,\n",
       " 29)"
      ]
     },
     "execution_count": 32,
     "metadata": {},
     "output_type": "execute_result"
    }
   ],
   "source": [
    "ortogonal_descent(f, [x1,x2], [0, 0], eps=eps)"
   ]
  },
  {
   "cell_type": "code",
   "execution_count": 33,
   "metadata": {
    "ExecuteTime": {
     "end_time": "2018-10-29T18:58:35.704992Z",
     "start_time": "2018-10-29T18:58:35.510948Z"
    }
   },
   "outputs": [
    {
     "data": {
      "text/plain": [
       "(5.14034276799558e-9, array([ 3.58442662, -1.84810768]), 137, 35)"
      ]
     },
     "execution_count": 33,
     "metadata": {},
     "output_type": "execute_result"
    }
   ],
   "source": [
    "gradient_descent(f, [x1,x2], [-5, 0], eps=eps)"
   ]
  },
  {
   "cell_type": "code",
   "execution_count": 34,
   "metadata": {
    "ExecuteTime": {
     "end_time": "2018-10-29T18:58:36.831247Z",
     "start_time": "2018-10-29T18:58:35.892035Z"
    }
   },
   "outputs": [
    {
     "data": {
      "text/plain": [
       "(4.36173365773719e-13,\n",
       " array([-2.80511797130789, 3.13131250931209], dtype=object),\n",
       " 48,\n",
       " 7)"
      ]
     },
     "execution_count": 34,
     "metadata": {},
     "output_type": "execute_result"
    }
   ],
   "source": [
    "full_descent(f, [x1,x2], [-5, 0], eps=eps)"
   ]
  },
  {
   "cell_type": "code",
   "execution_count": 35,
   "metadata": {
    "ExecuteTime": {
     "end_time": "2018-10-29T18:58:40.032971Z",
     "start_time": "2018-10-29T18:58:37.019289Z"
    }
   },
   "outputs": [
    {
     "data": {
      "text/plain": [
       "(3.674845771682115e-9,\n",
       " array([-3.77930200621876, -3.28318415471229], dtype=object),\n",
       " 138,\n",
       " 23)"
      ]
     },
     "execution_count": 35,
     "metadata": {},
     "output_type": "execute_result"
    }
   ],
   "source": [
    "ortogonal_descent(f, [x1,x2], [-5, 0], eps=eps)"
   ]
  }
 ],
 "metadata": {
  "kernelspec": {
   "display_name": "Python 3",
   "language": "python",
   "name": "python3"
  },
  "language_info": {
   "codemirror_mode": {
    "name": "ipython",
    "version": 3
   },
   "file_extension": ".py",
   "mimetype": "text/x-python",
   "name": "python",
   "nbconvert_exporter": "python",
   "pygments_lexer": "ipython3",
   "version": "3.6.6"
  },
  "latex_envs": {
   "LaTeX_envs_menu_present": true,
   "autoclose": false,
   "autocomplete": true,
   "bibliofile": "biblio.bib",
   "cite_by": "apalike",
   "current_citInitial": 1,
   "eqLabelWithNumbers": true,
   "eqNumInitial": 1,
   "hotkeys": {
    "equation": "Ctrl-E",
    "itemize": "Ctrl-I"
   },
   "labels_anchors": false,
   "latex_user_defs": false,
   "report_style_numbering": false,
   "user_envs_cfg": false
  },
  "varInspector": {
   "cols": {
    "lenName": 16,
    "lenType": 16,
    "lenVar": 40
   },
   "kernels_config": {
    "python": {
     "delete_cmd_postfix": "",
     "delete_cmd_prefix": "del ",
     "library": "var_list.py",
     "varRefreshCmd": "print(var_dic_list())"
    },
    "r": {
     "delete_cmd_postfix": ") ",
     "delete_cmd_prefix": "rm(",
     "library": "var_list.r",
     "varRefreshCmd": "cat(var_dic_list()) "
    }
   },
   "types_to_exclude": [
    "module",
    "function",
    "builtin_function_or_method",
    "instance",
    "_Feature"
   ],
   "window_display": false
  }
 },
 "nbformat": 4,
 "nbformat_minor": 2
}
