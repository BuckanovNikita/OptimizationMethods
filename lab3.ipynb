{
 "cells": [
  {
   "cell_type": "code",
   "execution_count": 1,
   "metadata": {
    "ExecuteTime": {
     "end_time": "2018-09-30T09:08:59.668239Z",
     "start_time": "2018-09-30T09:08:59.069084Z"
    },
    "code_folding": []
   },
   "outputs": [],
   "source": [
    "from sympy import *\n",
    "import numpy as np"
   ]
  },
  {
   "cell_type": "code",
   "execution_count": 2,
   "metadata": {
    "ExecuteTime": {
     "end_time": "2018-09-30T09:08:59.682240Z",
     "start_time": "2018-09-30T09:08:59.671236Z"
    },
    "code_folding": []
   },
   "outputs": [],
   "source": [
    "def gradient_descent(f, sym, x0, alpha = 0.1, eps = 1e-4):\n",
    "    df = np.array([100])\n",
    "    i = 1\n",
    "    it = 1\n",
    "    while eps < np.linalg.norm(df):\n",
    "        df = np.array([f.diff(sym[0]).subs(zip(sym, x0)).evalf(), f.diff(sym[1]).subs(zip(sym, x0)).evalf()]).astype(np.float64)\n",
    "        y = x0 - alpha*df\n",
    "        if f.subs(zip(sym,y)).evalf()<f.subs(zip(sym, x0)).evalf():\n",
    "            x0 = y\n",
    "        else:\n",
    "            alpha = alpha/2\n",
    "        i = i + 4\n",
    "        it = it + 1\n",
    "    return f.subs(zip(sym,x0)).evalf(), x0, i, it"
   ]
  },
  {
   "cell_type": "markdown",
   "metadata": {
    "ExecuteTime": {
     "end_time": "2018-09-28T09:37:56.150605Z",
     "start_time": "2018-09-28T09:37:56.146604Z"
    },
    "code_folding": []
   },
   "source": [
    "def gradient_descent(f, sym, x0, alpha = 0.1, eps = 1e-4):\n",
    "    df = np.array([100,133])\n",
    "    i = 1\n",
    "    it = 1\n",
    "    x0 = ImmutableDenseNDimArray(x0)\n",
    "    while eps < df[0]**2 + df[1]**2:\n",
    "        df = tensor.derive_by_array(f,sym).subs(zip(sym,x0))\n",
    "        y = x0 - df.applyfunc(lambda x: x*alpha)\n",
    "        if f.subs(zip(sym,y)).evalf() < f.subs(zip(sym, x0)).evalf():\n",
    "            x0 = y\n",
    "        else:\n",
    "            alpha = alpha/2\n",
    "        i = i + 4\n",
    "        it = it + 1\n",
    "    return f.subs(zip(sym,x0)).evalf(), x0, i, it"
   ]
  },
  {
   "cell_type": "code",
   "execution_count": 3,
   "metadata": {
    "ExecuteTime": {
     "end_time": "2018-09-30T09:08:59.701244Z",
     "start_time": "2018-09-30T09:08:59.685242Z"
    },
    "code_folding": []
   },
   "outputs": [],
   "source": [
    "def iterative_search(f, sym, a, b, eps=1e-8, delta = 1000):\n",
    "    eps = eps\n",
    "    x0 = a\n",
    "    x1 = a+delta\n",
    "    it = 0\n",
    "    while eps<abs(delta):\n",
    "        x1 = a+delta\n",
    "        while f.subs({sym : x1}).evalf() < f.subs({sym : x0}).evalf() and x1>a and x1<b:\n",
    "            x0 = x1\n",
    "            x1 = x1+delta\n",
    "            it = it + 1\n",
    "        delta = -delta/4\n",
    "    return f.subs({sym : x0}).evalf(), x0, it"
   ]
  },
  {
   "cell_type": "code",
   "execution_count": 34,
   "metadata": {
    "ExecuteTime": {
     "end_time": "2018-09-30T12:22:17.306402Z",
     "start_time": "2018-09-30T12:22:17.302401Z"
    },
    "code_folding": []
   },
   "outputs": [],
   "source": [
    "def newton_search(f, sym, eps=1e-10):\n",
    "    x0 = iterative_search(f,sym,0,oo,1)[1]\n",
    "    it = 0 \n",
    "    d = diff(f, sym).subs({sym : x0}).evalf()\n",
    "    while eps < abs(d):\n",
    "        x0 = x0 - d/diff(f, sym, 2).subs({sym : x0}).evalf()\n",
    "        it = it + 2\n",
    "        if it>200:\n",
    "            return iterative_search(f,sym,0,oo)\n",
    "        d = diff(f, sym).subs({sym : x0}).evalf()\n",
    "    return f.subs({sym : x0}).evalf(), x0, it"
   ]
  },
  {
   "cell_type": "code",
   "execution_count": 30,
   "metadata": {
    "ExecuteTime": {
     "end_time": "2018-09-30T12:21:23.304656Z",
     "start_time": "2018-09-30T12:21:23.298655Z"
    },
    "code_folding": []
   },
   "outputs": [],
   "source": [
    "def golden_split_search(f, sym, a, b, eps=1e-8):\n",
    "    tau = (np.sqrt(5)-1)/2\n",
    "    x2 = a + tau*(b-a)\n",
    "    x1 = a+b-x2\n",
    "    f1 = f.subs({sym: x1})\n",
    "    f2 = f.subs({sym: x2})\n",
    "    t = 0\n",
    "    while eps < (b-a)/2: \n",
    "        if f.subs({sym: x1})<=f.subs({sym: x2}):\n",
    "            b = x2\n",
    "            x2 = x1\n",
    "            x1 = a+b-x1\n",
    "        else:\n",
    "            a = x1\n",
    "            x1 = x2\n",
    "            x2 = a+b-x2\n",
    "        t = t+1\n",
    "    return f.subs({sym: (a+b)/2}), (a+b)/2, t"
   ]
  },
  {
   "cell_type": "code",
   "execution_count": 6,
   "metadata": {
    "ExecuteTime": {
     "end_time": "2018-09-30T09:08:59.739251Z",
     "start_time": "2018-09-30T09:08:59.729250Z"
    },
    "code_folding": []
   },
   "outputs": [],
   "source": [
    "def full_descent(f, sym, x0, eps=1e-4, minimizer = newton_search):\n",
    "    theta = symbols('theta')\n",
    "    i = 0\n",
    "    it = 0\n",
    "    df = np.array([f.diff(sym[0]).subs(zip(sym, x0)).evalf(), f.diff(sym[1]).subs(zip(sym, x0)).evalf()]).astype(np.float64)\n",
    "    while eps < np.linalg.norm(df):\n",
    "        df = np.array([f.diff(sym[0]).subs(zip(sym, x0)).evalf(), f.diff(sym[1]).subs(zip(sym, x0)).evalf()]).astype(np.float64)\n",
    "        f_ = f.subs(zip(sym, x0-theta*df))\n",
    "        theta_min = minimizer(f_, theta)\n",
    "        x0 = x0 - theta_min[1]*df\n",
    "        i = i + 2 + theta_min[2]\n",
    "        it = it + 1\n",
    "    return f.subs(zip(sym,x0)).evalf(), x0, i, it"
   ]
  },
  {
   "cell_type": "code",
   "execution_count": 7,
   "metadata": {
    "ExecuteTime": {
     "end_time": "2018-09-30T09:08:59.749254Z",
     "start_time": "2018-09-30T09:08:59.741253Z"
    },
    "code_folding": []
   },
   "outputs": [],
   "source": [
    "def ortogonal_descent(f, sym, x0, eps=1e-4, restart = 0, minimizer = lambda x,y: newton_search(x,y), beta = 'v2'):\n",
    "    theta = symbols('theta')\n",
    "    i = 0\n",
    "    it = 0\n",
    "    df = np.array([f.diff(sym[0]).subs(zip(sym, x0)).evalf(16), f.diff(sym[1]).subs(zip(sym, x0)).evalf(16)]).astype(np.float64)\n",
    "    df_1 = 0     \n",
    "    while eps < np.linalg.norm(df):\n",
    "        y = df-df_1\n",
    "        theta_min = minimizer(f.subs(zip(sym, x0-theta*df)), theta)\n",
    "        x0 = x0 - theta_min[1]*df\n",
    "        i = i + 2 + theta_min[2]\n",
    "        s = np.array([f.diff(sym[0]).subs(zip(sym, x0)).evalf(16), f.diff(sym[1]).subs(zip(sym, x0)).evalf(16)]).astype(np.float64)\n",
    "    \n",
    "        if beta == 'v3':\n",
    "            b = (np.linalg.norm(s)/np.linalg.norm(df))**2\n",
    "        elif beta == 'v1':\n",
    "            b = float(re(np.dot(y,s)/np.dot(y, df)))\n",
    "        elif beta == 'v2':\n",
    "            b = float(np.dot(y,s)/(np.linalg.norm(df)**2))\n",
    "        else:\n",
    "            raise Exception(\"Unknown beta type\")\n",
    "        \n",
    "        df_1 = df\n",
    "        df = np.array(-1*s + df*b)\n",
    "        it = it+1\n",
    "        if restart and it%restart == 0:\n",
    "            df = np.array([f.diff(sym[0]).subs(zip(sym, x0)).evalf(16), f.diff(sym[1]).subs(zip(sym, x0)).evalf(16)]).astype(np.float64)\n",
    "    return f.subs(zip(sym, x0)).evalf(16), x0, i, it"
   ]
  },
  {
   "cell_type": "markdown",
   "metadata": {},
   "source": [
    "# Задание 2"
   ]
  },
  {
   "cell_type": "code",
   "execution_count": 8,
   "metadata": {
    "ExecuteTime": {
     "end_time": "2018-09-30T09:08:59.762257Z",
     "start_time": "2018-09-30T09:08:59.751254Z"
    }
   },
   "outputs": [],
   "source": [
    "x1 = symbols('x1')\n",
    "x2 = symbols('x2')\n",
    "theta = symbols('theta')\n",
    "\n",
    "def f(a):\n",
    "    return x1**2+a*x2**2"
   ]
  },
  {
   "cell_type": "code",
   "execution_count": 9,
   "metadata": {
    "ExecuteTime": {
     "end_time": "2018-09-30T09:08:59.927295Z",
     "start_time": "2018-09-30T09:08:59.764258Z"
    },
    "scrolled": false
   },
   "outputs": [
    {
     "data": {
      "text/plain": [
       "((1.20423772806809e-7, array([ 6.80564734e-05, -3.40282367e-04]), 173, 44),\n",
       " (0, array([0, 0], dtype=object), 6, 2),\n",
       " (0, array([0, 0], dtype=object), 4, 1))"
      ]
     },
     "execution_count": 9,
     "metadata": {},
     "output_type": "execute_result"
    }
   ],
   "source": [
    "a = 1\n",
    "eps = 1e-3\n",
    "gradient_descent(f(a), [x1,x2], [1,-5], eps=eps), full_descent(f(a), [x1,x2], [1,-5], eps=eps),\\\n",
    "ortogonal_descent(f(a), [x1,x2], [1,-5], eps=eps)"
   ]
  },
  {
   "cell_type": "code",
   "execution_count": 10,
   "metadata": {
    "ExecuteTime": {
     "end_time": "2018-09-30T09:09:00.029321Z",
     "start_time": "2018-09-30T09:08:59.929297Z"
    },
    "scrolled": true
   },
   "outputs": [
    {
     "data": {
      "text/plain": [
       "((1.02445216110626e-11, array([ 6.27710174e-07, -3.13855087e-06]), 257, 65),\n",
       " (0, array([0, 0], dtype=object), 6, 2),\n",
       " (0, array([0, 0], dtype=object), 4, 1))"
      ]
     },
     "execution_count": 10,
     "metadata": {},
     "output_type": "execute_result"
    }
   ],
   "source": [
    "a = 1\n",
    "eps = 1e-5\n",
    "gradient_descent(f(a), [x1,x2], [1,-5], eps=eps), full_descent(f(a), [x1,x2], [1,-5], eps=eps),\\\n",
    "ortogonal_descent(f(a), [x1,x2], [1,-5], eps=eps)"
   ]
  },
  {
   "cell_type": "code",
   "execution_count": 11,
   "metadata": {
    "ExecuteTime": {
     "end_time": "2018-09-30T09:09:03.250094Z",
     "start_time": "2018-09-30T09:09:00.031319Z"
    },
    "scrolled": true
   },
   "outputs": [
    {
     "data": {
      "text/plain": [
       "((2.44849917188919e-7,\n",
       "  array([ 4.94823117e-004, -2.22698617e-303]),\n",
       "  4877,\n",
       "  1220),\n",
       " (3.96484493028951e-12,\n",
       "  array([2.51847911440165e-8, -1.25923955728599e-7], dtype=object),\n",
       "  16,\n",
       "  4),\n",
       " (9.947397293725336e-8,\n",
       "  array([0.000315394947144790, 1.00556118187421e-9], dtype=object),\n",
       "  20,\n",
       "  5))"
      ]
     },
     "execution_count": 11,
     "metadata": {},
     "output_type": "execute_result"
    }
   ],
   "source": [
    "a = 250\n",
    "eps = 1e-3\n",
    "gradient_descent(f(a), [x1,x2], [1,-5], eps=eps), full_descent(f(a), [x1,x2], [1,-5], eps=eps),\\\n",
    "ortogonal_descent(f(a), [x1,x2], [1,-5], eps=eps)"
   ]
  },
  {
   "cell_type": "code",
   "execution_count": 12,
   "metadata": {
    "ExecuteTime": {
     "end_time": "2018-09-30T09:09:08.219215Z",
     "start_time": "2018-09-30T09:09:03.253093Z"
    }
   },
   "outputs": [
    {
     "data": {
      "text/plain": [
       "((2.46458570399349e-11,\n",
       "  array([ 4.96445939e-006, -4.94065646e-324]),\n",
       "  7813,\n",
       "  1954),\n",
       " (4.40860063025847e-19,\n",
       "  array([5.87907466763093e-10, -1.95166465920813e-11], dtype=object),\n",
       "  22,\n",
       "  6),\n",
       " (3.478776037713882e-14,\n",
       "  array([1.86514771066129e-7, 1.48497590613481e-12], dtype=object),\n",
       "  34,\n",
       "  9))"
      ]
     },
     "execution_count": 12,
     "metadata": {},
     "output_type": "execute_result"
    }
   ],
   "source": [
    "a = 250\n",
    "eps = 1e-5\n",
    "gradient_descent(f(a), [x1,x2], [1,-5], eps=eps), full_descent(f(a), [x1,x2], [1,-5], eps=eps),\\\n",
    "ortogonal_descent(f(a), [x1,x2], [1,-5], eps=eps)"
   ]
  },
  {
   "cell_type": "code",
   "execution_count": 13,
   "metadata": {
    "ExecuteTime": {
     "end_time": "2018-09-30T09:09:17.783372Z",
     "start_time": "2018-09-30T09:09:08.221213Z"
    },
    "scrolled": true
   },
   "outputs": [
    {
     "data": {
      "text/plain": [
       "((2.48888469898506e-7, array([4.98887232e-04, 4.09995923e-81]), 15601, 3901),\n",
       " (6.34821691553673e-14,\n",
       "  array([1.59348209035807e-9, -7.96741049339087e-9], dtype=object),\n",
       "  16,\n",
       "  4),\n",
       " (6.353819188262419e-9,\n",
       "  array([7.97108473672733e-5, 1.59275139572528e-11], dtype=object),\n",
       "  20,\n",
       "  5))"
      ]
     },
     "execution_count": 13,
     "metadata": {},
     "output_type": "execute_result"
    }
   ],
   "source": [
    "a = 1000\n",
    "eps = 1e-3\n",
    "gradient_descent(f(a), [x1,x2], [1,-5], 2, eps=eps), full_descent(f(a), [x1,x2], [1,-5], eps=eps),\\\n",
    "ortogonal_descent(f(a), [x1,x2], [1,-5], eps=eps)"
   ]
  },
  {
   "cell_type": "code",
   "execution_count": 14,
   "metadata": {
    "ExecuteTime": {
     "end_time": "2018-09-30T09:09:34.296097Z",
     "start_time": "2018-09-30T09:09:17.786371Z"
    }
   },
   "outputs": [
    {
     "data": {
      "text/plain": [
       "((2.49049400608615e-11,\n",
       "  array([4.99048495e-006, 4.94065646e-324]),\n",
       "  31257,\n",
       "  7815),\n",
       " (1.48849855997168e-21,\n",
       "  array([3.73098892547821e-11, -3.10597366002320e-13], dtype=object),\n",
       "  22,\n",
       "  6),\n",
       " (1.419290370247580e-16,\n",
       "  array([1.19133973739383e-8, 5.94956156887508e-15], dtype=object),\n",
       "  34,\n",
       "  9))"
      ]
     },
     "execution_count": 14,
     "metadata": {},
     "output_type": "execute_result"
    }
   ],
   "source": [
    "a = 1000\n",
    "eps = 1e-5\n",
    "gradient_descent(f(a), [x1,x2], [1,-5], eps=eps), full_descent(f(a), [x1,x2], [1,-5], eps=eps),\\\n",
    "ortogonal_descent(f(a), [x1,x2], [1,-5], eps=eps)"
   ]
  },
  {
   "cell_type": "markdown",
   "metadata": {},
   "source": [
    "# Задание 3"
   ]
  },
  {
   "cell_type": "code",
   "execution_count": 15,
   "metadata": {
    "ExecuteTime": {
     "end_time": "2018-09-30T09:09:34.309099Z",
     "start_time": "2018-09-30T09:09:34.299097Z"
    }
   },
   "outputs": [],
   "source": [
    "f = 64*x1**2 + 126*x1*x2 + 64*x2**2 + -10*x1+30*x2 + 13"
   ]
  },
  {
   "cell_type": "code",
   "execution_count": 16,
   "metadata": {
    "ExecuteTime": {
     "end_time": "2018-09-30T09:09:39.976376Z",
     "start_time": "2018-09-30T09:09:34.314099Z"
    }
   },
   "outputs": [
    {
     "data": {
      "text/plain": [
       "((-187.393700546578, array([  9.96028292, -10.03902307]), 3169, 793),\n",
       " (-187.393700787105,\n",
       "  array([9.96062522772611, -10.0393674391430], dtype=object),\n",
       "  48,\n",
       "  12),\n",
       " (-187.3937007173045,\n",
       "  array([9.96044283315183, -10.0391827545429], dtype=object),\n",
       "  164,\n",
       "  41))"
      ]
     },
     "execution_count": 16,
     "metadata": {},
     "output_type": "execute_result"
    }
   ],
   "source": [
    "eps = 1e-3\n",
    "gradient_descent(f, [x1,x2], [1,-5], eps=eps), full_descent(f, [x1,x2], [1,-5], eps=eps),\\\n",
    "ortogonal_descent(f, [x1,x2], [1,-5], eps=eps)"
   ]
  },
  {
   "cell_type": "markdown",
   "metadata": {
    "ExecuteTime": {
     "end_time": "2018-09-28T08:44:22.685693Z",
     "start_time": "2018-09-28T08:44:22.680693Z"
    }
   },
   "source": [
    "# Задание 5"
   ]
  },
  {
   "cell_type": "code",
   "execution_count": 17,
   "metadata": {
    "ExecuteTime": {
     "end_time": "2018-09-30T09:12:51.487578Z",
     "start_time": "2018-09-30T09:09:39.978378Z"
    }
   },
   "outputs": [
    {
     "data": {
      "text/plain": [
       "(1.193056372415401e-6,\n",
       " array([0.998908794086180, 0.997813956013469], dtype=object),\n",
       " 13324,\n",
       " 2353)"
      ]
     },
     "execution_count": 17,
     "metadata": {},
     "output_type": "execute_result"
    }
   ],
   "source": [
    "f = 100*(x1**2-x2)**2 + (x1-1)**2\n",
    "eps = 1e-3\n",
    "ortogonal_descent(f, [x1,x2], [-1,1], eps=eps)"
   ]
  },
  {
   "cell_type": "code",
   "execution_count": 18,
   "metadata": {
    "ExecuteTime": {
     "end_time": "2018-09-30T09:18:13.652249Z",
     "start_time": "2018-09-30T09:12:51.490576Z"
    }
   },
   "outputs": [
    {
     "data": {
      "text/plain": [
       "(1.193998338136502e-10,\n",
       " array([0.999989083618588, 0.999978119143204], dtype=object),\n",
       " 20676,\n",
       " 4185)"
      ]
     },
     "execution_count": 18,
     "metadata": {},
     "output_type": "execute_result"
    }
   ],
   "source": [
    "eps = 1e-5\n",
    "ortogonal_descent(f, [x1,x2], [-1,1], eps=eps)"
   ]
  },
  {
   "cell_type": "markdown",
   "metadata": {},
   "source": [
    "# Задание 6"
   ]
  },
  {
   "cell_type": "code",
   "execution_count": 19,
   "metadata": {
    "ExecuteTime": {
     "end_time": "2018-09-30T09:23:53.476447Z",
     "start_time": "2018-09-30T09:18:13.655248Z"
    }
   },
   "outputs": [
    {
     "data": {
      "text/plain": [
       "(9.967597860275690e-7,\n",
       " array([0.999002872845824, 0.998001742730548], dtype=object),\n",
       " 22378,\n",
       " 4445)"
      ]
     },
     "execution_count": 19,
     "metadata": {},
     "output_type": "execute_result"
    }
   ],
   "source": [
    "eps = 1e-3\n",
    "ortogonal_descent(f, [x1,x2], [-1, 1], eps=eps, restart=1)"
   ]
  },
  {
   "cell_type": "code",
   "execution_count": 20,
   "metadata": {
    "ExecuteTime": {
     "end_time": "2018-09-30T09:24:11.173501Z",
     "start_time": "2018-09-30T09:23:53.479447Z"
    },
    "scrolled": true
   },
   "outputs": [
    {
     "data": {
      "text/plain": [
       "(6.342066569387720e-8,\n",
       " array([1.00025165359826, 1.00050432515780], dtype=object),\n",
       " 1144,\n",
       " 200)"
      ]
     },
     "execution_count": 20,
     "metadata": {},
     "output_type": "execute_result"
    }
   ],
   "source": [
    "ortogonal_descent(f, [x1,x2],  [-1, 1], eps=eps,restart=2)"
   ]
  },
  {
   "cell_type": "code",
   "execution_count": 21,
   "metadata": {
    "ExecuteTime": {
     "end_time": "2018-09-30T09:24:34.371618Z",
     "start_time": "2018-09-30T09:24:11.176503Z"
    }
   },
   "outputs": [
    {
     "data": {
      "text/plain": [
       "(1.024763788296749e-6,\n",
       " array([1.00101159685222, 1.00202800595976], dtype=object),\n",
       " 1718,\n",
       " 258)"
      ]
     },
     "execution_count": 21,
     "metadata": {},
     "output_type": "execute_result"
    }
   ],
   "source": [
    "eps = 1e-3\n",
    "ortogonal_descent(f, [x1,x2],  [-1, 1], eps=eps,restart=3)"
   ]
  },
  {
   "cell_type": "code",
   "execution_count": 22,
   "metadata": {
    "ExecuteTime": {
     "end_time": "2018-09-30T09:32:08.808127Z",
     "start_time": "2018-09-30T09:24:34.373618Z"
    }
   },
   "outputs": [
    {
     "data": {
      "text/plain": [
       "(1.197704386607404e-6,\n",
       " array([0.998906306496894, 0.997809886267641], dtype=object),\n",
       " 30266,\n",
       " 5114)"
      ]
     },
     "execution_count": 22,
     "metadata": {},
     "output_type": "execute_result"
    }
   ],
   "source": [
    "eps = 1e-3\n",
    "ortogonal_descent(f, [x1,x2],  [-1, 1], eps=eps,restart=4)"
   ]
  },
  {
   "cell_type": "code",
   "execution_count": 23,
   "metadata": {
    "ExecuteTime": {
     "end_time": "2018-09-30T09:32:39.485885Z",
     "start_time": "2018-09-30T09:32:08.811130Z"
    },
    "scrolled": true
   },
   "outputs": [
    {
     "data": {
      "text/plain": [
       "(1.064910363312655e-6,\n",
       " array([0.998968635967277, 0.997934873572785], dtype=object),\n",
       " 2268,\n",
       " 345)"
      ]
     },
     "execution_count": 23,
     "metadata": {},
     "output_type": "execute_result"
    }
   ],
   "source": [
    "eps = 1e-3\n",
    "ortogonal_descent(f, [x1,x2],  [-1, 1], eps=eps,restart=5)"
   ]
  },
  {
   "cell_type": "markdown",
   "metadata": {},
   "source": [
    "# Задание 7"
   ]
  },
  {
   "cell_type": "code",
   "execution_count": 24,
   "metadata": {
    "ExecuteTime": {
     "end_time": "2018-09-30T09:33:06.619003Z",
     "start_time": "2018-09-30T09:32:39.487895Z"
    }
   },
   "outputs": [
    {
     "data": {
      "text/plain": [
       "(-187.3937006050728, array([  9.96032724, -10.03906926]), 2906, 795)"
      ]
     },
     "execution_count": 24,
     "metadata": {},
     "output_type": "execute_result"
    }
   ],
   "source": [
    "f = 64*x1**2 + 126*x1*x2 + 64*x2**2 + -10*x1+30*x2 + 13\n",
    "ortogonal_descent(f, [x1,x2], [2, 4], eps=eps, restart=2, minimizer=lambda x,y: iterative_search(x,y,0,oo,1e-4))"
   ]
  },
  {
   "cell_type": "code",
   "execution_count": 25,
   "metadata": {
    "ExecuteTime": {
     "end_time": "2018-09-30T09:33:37.419951Z",
     "start_time": "2018-09-30T09:33:06.621004Z"
    }
   },
   "outputs": [
    {
     "data": {
      "text/plain": [
       "(-187.3937006050728, array([  9.96032724, -10.03906926]), 2906, 795)"
      ]
     },
     "execution_count": 25,
     "metadata": {},
     "output_type": "execute_result"
    }
   ],
   "source": [
    "ortogonal_descent(f, [x1,x2], [2, 4], eps=eps, restart=2, minimizer=lambda x,y: iterative_search(x,y,0,oo,1e-6))"
   ]
  },
  {
   "cell_type": "code",
   "execution_count": 26,
   "metadata": {
    "ExecuteTime": {
     "end_time": "2018-09-30T09:34:14.383289Z",
     "start_time": "2018-09-30T09:33:37.422951Z"
    }
   },
   "outputs": [
    {
     "data": {
      "text/plain": [
       "(-187.3937006050710, array([  9.96032723, -10.03906926]), 2927, 795)"
      ]
     },
     "execution_count": 26,
     "metadata": {},
     "output_type": "execute_result"
    }
   ],
   "source": [
    "ortogonal_descent(f, [x1,x2], [2, 4], eps=eps, restart=2, minimizer=lambda x,y: iterative_search(x,y,0,oo,1e-8))"
   ]
  },
  {
   "cell_type": "code",
   "execution_count": 31,
   "metadata": {
    "ExecuteTime": {
     "end_time": "2018-09-30T12:21:39.997906Z",
     "start_time": "2018-09-30T12:21:28.115417Z"
    }
   },
   "outputs": [
    {
     "data": {
      "text/plain": [
       "(-187.3937005757780, array([  9.96030425, -10.03904525]), 4935, 141)"
      ]
     },
     "execution_count": 31,
     "metadata": {},
     "output_type": "execute_result"
    }
   ],
   "source": [
    "ortogonal_descent(f, [x1,x2],[2, 4], eps=eps, restart=2, minimizer=lambda x,y: golden_split_search(x,y,0,1000,1e-4))"
   ]
  },
  {
   "cell_type": "code",
   "execution_count": 32,
   "metadata": {
    "ExecuteTime": {
     "end_time": "2018-09-30T12:21:44.245864Z",
     "start_time": "2018-09-30T12:21:40.090926Z"
    }
   },
   "outputs": [
    {
     "data": {
      "text/plain": [
       "(-187.3937005807584, array([  9.96030909, -10.03904815]), 1764, 42)"
      ]
     },
     "execution_count": 32,
     "metadata": {},
     "output_type": "execute_result"
    }
   ],
   "source": [
    "ortogonal_descent(f, [x1,x2], [2, 4], eps=eps, restart=2, minimizer=lambda x,y: golden_split_search(x,y,0,1000,1e-6))"
   ]
  },
  {
   "cell_type": "code",
   "execution_count": 33,
   "metadata": {
    "ExecuteTime": {
     "end_time": "2018-09-30T12:21:53.314912Z",
     "start_time": "2018-09-30T12:21:44.311889Z"
    }
   },
   "outputs": [
    {
     "data": {
      "text/plain": [
       "(-187.3937007870372, array([  9.96061639, -10.03935679]), 3740, 85)"
      ]
     },
     "execution_count": 33,
     "metadata": {},
     "output_type": "execute_result"
    }
   ],
   "source": [
    "ortogonal_descent(f, [x1,x2], [2, 4], eps=eps, restart=2, minimizer=lambda x,y: golden_split_search(x,y,0,1000,1e-8))"
   ]
  },
  {
   "cell_type": "code",
   "execution_count": null,
   "metadata": {},
   "outputs": [],
   "source": []
  }
 ],
 "metadata": {
  "kernelspec": {
   "display_name": "Python 3",
   "language": "python",
   "name": "python3"
  },
  "language_info": {
   "codemirror_mode": {
    "name": "ipython",
    "version": 3
   },
   "file_extension": ".py",
   "mimetype": "text/x-python",
   "name": "python",
   "nbconvert_exporter": "python",
   "pygments_lexer": "ipython3",
   "version": "3.6.6"
  },
  "latex_envs": {
   "LaTeX_envs_menu_present": true,
   "autoclose": false,
   "autocomplete": true,
   "bibliofile": "biblio.bib",
   "cite_by": "apalike",
   "current_citInitial": 1,
   "eqLabelWithNumbers": true,
   "eqNumInitial": 1,
   "hotkeys": {
    "equation": "Ctrl-E",
    "itemize": "Ctrl-I"
   },
   "labels_anchors": false,
   "latex_user_defs": false,
   "report_style_numbering": false,
   "user_envs_cfg": false
  },
  "varInspector": {
   "cols": {
    "lenName": 16,
    "lenType": 16,
    "lenVar": 40
   },
   "kernels_config": {
    "python": {
     "delete_cmd_postfix": "",
     "delete_cmd_prefix": "del ",
     "library": "var_list.py",
     "varRefreshCmd": "print(var_dic_list())"
    },
    "r": {
     "delete_cmd_postfix": ") ",
     "delete_cmd_prefix": "rm(",
     "library": "var_list.r",
     "varRefreshCmd": "cat(var_dic_list()) "
    }
   },
   "types_to_exclude": [
    "module",
    "function",
    "builtin_function_or_method",
    "instance",
    "_Feature"
   ],
   "window_display": false
  }
 },
 "nbformat": 4,
 "nbformat_minor": 2
}
