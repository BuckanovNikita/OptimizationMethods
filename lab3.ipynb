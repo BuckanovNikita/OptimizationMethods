{
 "cells": [
  {
   "cell_type": "code",
   "execution_count": 5,
   "metadata": {
    "ExecuteTime": {
     "end_time": "2018-09-30T06:02:35.869869Z",
     "start_time": "2018-09-30T06:02:35.865868Z"
    },
    "code_folding": []
   },
   "outputs": [],
   "source": [
    "from sympy import *\n",
    "import numpy as np"
   ]
  },
  {
   "cell_type": "code",
   "execution_count": 6,
   "metadata": {
    "ExecuteTime": {
     "end_time": "2018-09-30T06:02:36.651231Z",
     "start_time": "2018-09-30T06:02:36.642231Z"
    },
    "code_folding": []
   },
   "outputs": [],
   "source": [
    "def gradient_descent(f, sym, x0, alpha = 0.1, eps = 1e-4):\n",
    "    df = np.array([100])\n",
    "    i = 1\n",
    "    it = 1\n",
    "    while eps < np.linalg.norm(df):\n",
    "        df = np.array([f.diff(sym[0]).subs(zip(sym, x0)).evalf(), f.diff(sym[1]).subs(zip(sym, x0)).evalf()]).astype(np.float64)\n",
    "        y = x0 - alpha*df\n",
    "        if f.subs(zip(sym,y)).evalf()<f.subs(zip(sym, x0)).evalf():\n",
    "            x0 = y\n",
    "        else:\n",
    "            alpha = alpha/2\n",
    "        i = i + 4\n",
    "        it = it + 1\n",
    "    return f.subs(zip(sym,x0)).evalf(), x0, i, it"
   ]
  },
  {
   "cell_type": "markdown",
   "metadata": {
    "ExecuteTime": {
     "end_time": "2018-09-28T09:37:56.150605Z",
     "start_time": "2018-09-28T09:37:56.146604Z"
    },
    "code_folding": []
   },
   "source": [
    "def gradient_descent(f, sym, x0, alpha = 0.1, eps = 1e-4):\n",
    "    df = np.array([100,133])\n",
    "    i = 1\n",
    "    it = 1\n",
    "    x0 = ImmutableDenseNDimArray(x0)\n",
    "    while eps < df[0]**2 + df[1]**2:\n",
    "        df = tensor.derive_by_array(f,sym).subs(zip(sym,x0))\n",
    "        y = x0 - df.applyfunc(lambda x: x*alpha)\n",
    "        if f.subs(zip(sym,y)).evalf() < f.subs(zip(sym, x0)).evalf():\n",
    "            x0 = y\n",
    "        else:\n",
    "            alpha = alpha/2\n",
    "        i = i + 4\n",
    "        it = it + 1\n",
    "    return f.subs(zip(sym,x0)).evalf(), x0, i, it"
   ]
  },
  {
   "cell_type": "code",
   "execution_count": 7,
   "metadata": {
    "ExecuteTime": {
     "end_time": "2018-09-30T06:02:37.606126Z",
     "start_time": "2018-09-30T06:02:37.600124Z"
    },
    "code_folding": []
   },
   "outputs": [],
   "source": [
    "def newton_search(f, sym, x0, eps=1e-6):\n",
    "    it = 0 \n",
    "    d = diff(f, sym).subs({sym : x0}).evalf()\n",
    "    while eps < abs(d):\n",
    "        x0 = x0 - d/diff(f, sym, 2).subs({sym : x0}).evalf()\n",
    "        it = it + 2\n",
    "        if it>200:\n",
    "            print(\"Method not coverage from current start point\")\n",
    "            raise\n",
    "        d = diff(f, sym).subs({sym : x0}).evalf()\n",
    "    return f.subs({sym : x0}).evalf(), x0, it"
   ]
  },
  {
   "cell_type": "code",
   "execution_count": 8,
   "metadata": {
    "ExecuteTime": {
     "end_time": "2018-09-30T06:02:38.269799Z",
     "start_time": "2018-09-30T06:02:38.264798Z"
    },
    "code_folding": []
   },
   "outputs": [],
   "source": [
    "def iterative_search(f, sym, a, b, eps=1e-6, delta = 1000):\n",
    "    eps = eps\n",
    "    x0 = a\n",
    "    x1 = a+delta\n",
    "    i = 0\n",
    "    while eps<abs(delta):\n",
    "        x1 = a+delta\n",
    "        while f.subs({sym : x1}).evalf() < f.subs({sym : x0}).evalf() and x1>a and x1<b:\n",
    "            x0 = x1\n",
    "            x1 = x1+delta\n",
    "            i = i + 1\n",
    "        delta = -delta/4\n",
    "    return f.subs({sym : x0}).evalf(), x0, i"
   ]
  },
  {
   "cell_type": "code",
   "execution_count": 9,
   "metadata": {
    "ExecuteTime": {
     "end_time": "2018-09-30T06:02:39.012335Z",
     "start_time": "2018-09-30T06:02:39.007334Z"
    },
    "code_folding": []
   },
   "outputs": [],
   "source": [
    "def full_descent(f, sym, x0, eps=1e-4, minimizer = newton_search):\n",
    "    theta = symbols('theta')\n",
    "    i = 0\n",
    "    it = 0\n",
    "    df = np.array([f.diff(sym[0]).subs(zip(sym, x0)).evalf(), f.diff(sym[1]).subs(zip(sym, x0)).evalf()]).astype(np.float64)\n",
    "    while eps < np.linalg.norm(df):\n",
    "        df = np.array([f.diff(sym[0]).subs(zip(sym, x0)).evalf(), f.diff(sym[1]).subs(zip(sym, x0)).evalf()]).astype(np.float64)\n",
    "        f_ = f.subs(zip(sym, x0-theta*df))\n",
    "        theta_min = minimizer(f_, theta, 0.4+np.random.rand())\n",
    "        x0 = x0 - theta_min[1]*df\n",
    "        i = i + 2 + theta_min[2]\n",
    "        it = it + 1\n",
    "    return f.subs(zip(sym,x0)).evalf(), x0, i, it"
   ]
  },
  {
   "cell_type": "code",
   "execution_count": 62,
   "metadata": {
    "ExecuteTime": {
     "end_time": "2018-09-30T06:33:57.205359Z",
     "start_time": "2018-09-30T06:33:57.197357Z"
    },
    "code_folding": []
   },
   "outputs": [],
   "source": [
    "def ortogonal_descent(f, sym, x0, eps=1e-4, restart = 0, minimizer = newton_search, beta = 'std'):\n",
    "    i = 0\n",
    "    it = 0\n",
    "    df = np.array([f.diff(sym[0]).subs(zip(sym, x0)).evalf(), f.diff(sym[1]).subs(zip(sym, x0)).evalf()]).astype(np.float64)\n",
    "    while eps < np.linalg.norm(df):\n",
    "        f_ = f.subs(zip(sym, x0-theta*df))\n",
    "        theta_min = minimizer(f_, theta, 1)\n",
    "        x_ = np.array(x0)\n",
    "        x0 = x0 - theta_min[1]*df\n",
    "        i = i + 2 + theta_min[2]\n",
    "        df_1 = df\n",
    "        s = np.array([f.diff(sym[0]).subs(zip(sym, x0)).evalf(), f.diff(sym[1]).subs(zip(sym, x0)).evalf()]).astype(np.float64)\n",
    "        if beta == 'std':\n",
    "            b = (np.linalg.norm(s)/np.linalg.norm(df_1))**2\n",
    "        elif beta == 'v1':\n",
    "            b = float(np.dot(x_,s)/np.dot(x_, df_1))\n",
    "        elif beta == 'v2':\n",
    "            b = float(np.dot(x_,s)/(np.linalg.norm(df_1)**2))\n",
    "        else:\n",
    "            raise Exception(\"Unknown beta type\")\n",
    "        df = np.array(-1*s + df_1*b)\n",
    "        it = it+1\n",
    "        if restart and it%restart == 0:\n",
    "            df = np.array([f.diff(sym[0]).subs(zip(sym, x0)).evalf(), f.diff(sym[1]).subs(zip(sym, x0)).evalf()]).astype(np.float64)\n",
    "    return f.subs(zip(sym, x0)).evalf(), x0, i, it"
   ]
  },
  {
   "cell_type": "code",
   "execution_count": 69,
   "metadata": {
    "ExecuteTime": {
     "end_time": "2018-09-30T06:40:44.230520Z",
     "start_time": "2018-09-30T06:39:52.701958Z"
    },
    "code_folding": []
   },
   "outputs": [
    {
     "data": {
      "text/plain": [
       "(4.07988397757211e-7, array([0.9993617 , 0.99936052]), 3570, 1220)"
      ]
     },
     "execution_count": 69,
     "metadata": {},
     "output_type": "execute_result"
    }
   ],
   "source": [
    "ortogonal_descent(f, [x1,x2], [-2, 1], eps=eps, restart=4, beta = 'v2', minimizer = lambda x,y,z: iterative_search(x,y,0, oo))"
   ]
  },
  {
   "cell_type": "code",
   "execution_count": 67,
   "metadata": {
    "ExecuteTime": {
     "end_time": "2018-09-30T06:39:46.700311Z",
     "start_time": "2018-09-30T06:39:45.634888Z"
    },
    "code_folding": []
   },
   "outputs": [
    {
     "data": {
      "text/plain": [
       "(7.65170066708452e-8,\n",
       " array([0.999723469333913, 0.999723123559974], dtype=object),\n",
       " 94,\n",
       " 6)"
      ]
     },
     "execution_count": 67,
     "metadata": {},
     "output_type": "execute_result"
    }
   ],
   "source": [
    "ortogonal_descent(f, [x1,x2], [-2, 1], eps=eps, restart=3, beta = 'v1')"
   ]
  },
  {
   "cell_type": "code",
   "execution_count": 68,
   "metadata": {
    "ExecuteTime": {
     "end_time": "2018-09-30T06:39:49.268510Z",
     "start_time": "2018-09-30T06:39:46.896863Z"
    },
    "code_folding": []
   },
   "outputs": [
    {
     "data": {
      "text/plain": [
       "(5.16335965377706e-11,\n",
       " array([1.00000669781549, -1.00000656769272], dtype=object),\n",
       " 218,\n",
       " 15)"
      ]
     },
     "execution_count": 68,
     "metadata": {},
     "output_type": "execute_result"
    }
   ],
   "source": [
    "ortogonal_descent(f, [x1,x2], [-2, 1], eps=eps, restart=3)"
   ]
  },
  {
   "cell_type": "markdown",
   "metadata": {},
   "source": [
    "# Задание 2"
   ]
  },
  {
   "cell_type": "code",
   "execution_count": 11,
   "metadata": {
    "ExecuteTime": {
     "end_time": "2018-09-30T06:02:44.750590Z",
     "start_time": "2018-09-30T06:02:44.747589Z"
    }
   },
   "outputs": [],
   "source": [
    "x1 = symbols('x1')\n",
    "x2 = symbols('x2')\n",
    "theta = symbols('theta')\n",
    "\n",
    "def f(a):\n",
    "    return x1**2+a*x2**2"
   ]
  },
  {
   "cell_type": "code",
   "execution_count": 12,
   "metadata": {
    "ExecuteTime": {
     "end_time": "2018-09-30T06:02:44.892622Z",
     "start_time": "2018-09-30T06:02:44.752590Z"
    },
    "scrolled": false
   },
   "outputs": [
    {
     "data": {
      "text/plain": [
       "((1.20423772806809e-7, array([ 6.80564734e-05, -3.40282367e-04]), 173, 44),\n",
       " (0, array([0, 0], dtype=object), 6, 2),\n",
       " (0, array([0, 0], dtype=object), 4, 1))"
      ]
     },
     "execution_count": 12,
     "metadata": {},
     "output_type": "execute_result"
    }
   ],
   "source": [
    "a = 1\n",
    "eps = 1e-3\n",
    "gradient_descent(f(a), [x1,x2], [1,-5], eps=eps), full_descent(f(a), [x1,x2], [1,-5], eps=eps),\\\n",
    "ortogonal_descent(f(a), [x1,x2], [1,-5], eps=eps)"
   ]
  },
  {
   "cell_type": "code",
   "execution_count": 13,
   "metadata": {
    "ExecuteTime": {
     "end_time": "2018-09-30T06:02:44.990644Z",
     "start_time": "2018-09-30T06:02:44.893623Z"
    },
    "scrolled": true
   },
   "outputs": [
    {
     "data": {
      "text/plain": [
       "((1.02445216110626e-11, array([ 6.27710174e-07, -3.13855087e-06]), 257, 65),\n",
       " (0, array([0, 0], dtype=object), 6, 2),\n",
       " (0, array([0, 0], dtype=object), 4, 1))"
      ]
     },
     "execution_count": 13,
     "metadata": {},
     "output_type": "execute_result"
    }
   ],
   "source": [
    "a = 1\n",
    "eps = 1e-5\n",
    "gradient_descent(f(a), [x1,x2], [1,-5], eps=eps), full_descent(f(a), [x1,x2], [1,-5], eps=eps),\\\n",
    "ortogonal_descent(f(a), [x1,x2], [1,-5], eps=eps)"
   ]
  },
  {
   "cell_type": "code",
   "execution_count": 14,
   "metadata": {
    "ExecuteTime": {
     "end_time": "2018-09-30T06:02:48.251380Z",
     "start_time": "2018-09-30T06:02:44.992646Z"
    },
    "scrolled": true
   },
   "outputs": [
    {
     "data": {
      "text/plain": [
       "((2.44849917188919e-7,\n",
       "  array([ 4.94823117e-004, -2.22698617e-303]),\n",
       "  4877,\n",
       "  1220),\n",
       " (4.92597918719931e-10,\n",
       "  array([2.21284629224981e-5, -1.08241348985654e-7], dtype=object),\n",
       "  14,\n",
       "  4),\n",
       " (1.59946761057117e-12,\n",
       "  array([-1.26429609553595e-6, -2.02286270785217e-9], dtype=object),\n",
       "  12,\n",
       "  3))"
      ]
     },
     "execution_count": 14,
     "metadata": {},
     "output_type": "execute_result"
    }
   ],
   "source": [
    "a = 250\n",
    "eps = 1e-3\n",
    "gradient_descent(f(a), [x1,x2], [1,-5], eps=eps), full_descent(f(a), [x1,x2], [1,-5], eps=eps),\\\n",
    "ortogonal_descent(f(a), [x1,x2], [1,-5], eps=eps)"
   ]
  },
  {
   "cell_type": "code",
   "execution_count": 15,
   "metadata": {
    "ExecuteTime": {
     "end_time": "2018-09-30T06:02:53.953906Z",
     "start_time": "2018-09-30T06:02:48.253380Z"
    }
   },
   "outputs": [
    {
     "data": {
      "text/plain": [
       "((2.46458570399349e-11,\n",
       "  array([ 4.96445939e-006, -4.94065646e-324]),\n",
       "  7813,\n",
       "  1954),\n",
       " (3.69579721928949e-11,\n",
       "  array([6.07814249839727e-6, 7.52488194508648e-9], dtype=object),\n",
       "  230,\n",
       "  61),\n",
       " (1.59946761057117e-12,\n",
       "  array([-1.26429609553595e-6, -2.02286270785217e-9], dtype=object),\n",
       "  12,\n",
       "  3))"
      ]
     },
     "execution_count": 15,
     "metadata": {},
     "output_type": "execute_result"
    }
   ],
   "source": [
    "a = 250\n",
    "eps = 1e-5\n",
    "gradient_descent(f(a), [x1,x2], [1,-5], eps=eps), full_descent(f(a), [x1,x2], [1,-5], eps=eps),\\\n",
    "ortogonal_descent(f(a), [x1,x2], [1,-5], eps=eps)"
   ]
  },
  {
   "cell_type": "code",
   "execution_count": 16,
   "metadata": {
    "ExecuteTime": {
     "end_time": "2018-09-30T06:03:03.805241Z",
     "start_time": "2018-09-30T06:02:53.955906Z"
    },
    "scrolled": true
   },
   "outputs": [
    {
     "data": {
      "text/plain": [
       "((2.48888469898506e-7, array([4.98887232e-04, 4.09995923e-81]), 15601, 3901),\n",
       " (3.20626497248296e-9,\n",
       "  array([-5.66206039729551e-5, -1.92919211260761e-8], dtype=object),\n",
       "  16,\n",
       "  4),\n",
       " (6.36169541267140e-15,\n",
       "  array([-7.97538569561858e-8, -3.19016188249019e-11], dtype=object),\n",
       "  14,\n",
       "  3))"
      ]
     },
     "execution_count": 16,
     "metadata": {},
     "output_type": "execute_result"
    }
   ],
   "source": [
    "a = 1000\n",
    "eps = 1e-3\n",
    "gradient_descent(f(a), [x1,x2], [1,-5], 2, eps=eps), full_descent(f(a), [x1,x2], [1,-5], eps=eps),\\\n",
    "ortogonal_descent(f(a), [x1,x2], [1,-5], eps=eps)"
   ]
  },
  {
   "cell_type": "code",
   "execution_count": 17,
   "metadata": {
    "ExecuteTime": {
     "end_time": "2018-09-30T06:03:20.292963Z",
     "start_time": "2018-09-30T06:03:03.807241Z"
    }
   },
   "outputs": [
    {
     "data": {
      "text/plain": [
       "((2.49049400608615e-11,\n",
       "  array([4.99048495e-006, 4.94065646e-324]),\n",
       "  31257,\n",
       "  7815),\n",
       " (1.42635747024967e-12,\n",
       "  array([1.19425800332390e-6, 3.24486897225892e-10], dtype=object),\n",
       "  24,\n",
       "  7),\n",
       " (6.36169541267140e-15,\n",
       "  array([-7.97538569561858e-8, -3.19016188249019e-11], dtype=object),\n",
       "  14,\n",
       "  3))"
      ]
     },
     "execution_count": 17,
     "metadata": {},
     "output_type": "execute_result"
    }
   ],
   "source": [
    "a = 1000\n",
    "eps = 1e-5\n",
    "gradient_descent(f(a), [x1,x2], [1,-5], eps=eps), full_descent(f(a), [x1,x2], [1,-5], eps=eps),\\\n",
    "ortogonal_descent(f(a), [x1,x2], [1,-5], eps=eps)"
   ]
  },
  {
   "cell_type": "markdown",
   "metadata": {},
   "source": [
    "# Задание 3"
   ]
  },
  {
   "cell_type": "code",
   "execution_count": 18,
   "metadata": {
    "ExecuteTime": {
     "end_time": "2018-09-30T06:03:20.305962Z",
     "start_time": "2018-09-30T06:03:20.295961Z"
    }
   },
   "outputs": [],
   "source": [
    "f = 64*x1**2 + 126*x1*x2 + 64*x2**2 + -10*x1+30*x2 + 13"
   ]
  },
  {
   "cell_type": "code",
   "execution_count": 19,
   "metadata": {
    "ExecuteTime": {
     "end_time": "2018-09-30T06:03:24.207846Z",
     "start_time": "2018-09-30T06:03:20.309963Z"
    }
   },
   "outputs": [
    {
     "data": {
      "text/plain": [
       "((-187.393700546578, array([  9.96028292, -10.03902307]), 3169, 793),\n",
       " (-187.393700781433,\n",
       "  array([9.96067457812718, -10.0394196445261], dtype=object),\n",
       "  46,\n",
       "  12),\n",
       " (-187.393700787401,\n",
       "  array([9.96062946783659, -10.0393696250020], dtype=object),\n",
       "  24,\n",
       "  6))"
      ]
     },
     "execution_count": 19,
     "metadata": {},
     "output_type": "execute_result"
    }
   ],
   "source": [
    "eps = 1e-3\n",
    "gradient_descent(f, [x1,x2], [1,-5], eps=eps), full_descent(f, [x1,x2], [1,-5], eps=eps),\\\n",
    "ortogonal_descent(f, [x1,x2], [1,-5], eps=eps)"
   ]
  },
  {
   "cell_type": "markdown",
   "metadata": {
    "ExecuteTime": {
     "end_time": "2018-09-28T08:44:22.685693Z",
     "start_time": "2018-09-28T08:44:22.680693Z"
    }
   },
   "source": [
    "# Задание 5"
   ]
  },
  {
   "cell_type": "code",
   "execution_count": 20,
   "metadata": {
    "ExecuteTime": {
     "end_time": "2018-09-30T06:03:24.396892Z",
     "start_time": "2018-09-30T06:03:24.211848Z"
    }
   },
   "outputs": [
    {
     "data": {
      "text/plain": [
       "(8.55017195753593e-20, array([1.00000000001460, 1], dtype=object), 16, 1)"
      ]
     },
     "execution_count": 20,
     "metadata": {},
     "output_type": "execute_result"
    }
   ],
   "source": [
    "f = 100*(x1**2-x2**2)**2 + (x1-1)**2\n",
    "eps = 1e-3\n",
    "ortogonal_descent(f, [x1,x2], [-1,1], eps=eps)"
   ]
  },
  {
   "cell_type": "code",
   "execution_count": 21,
   "metadata": {
    "ExecuteTime": {
     "end_time": "2018-09-30T06:03:24.506913Z",
     "start_time": "2018-09-30T06:03:24.398891Z"
    }
   },
   "outputs": [
    {
     "data": {
      "text/plain": [
       "(8.55017195753593e-20, array([1.00000000001460, 1], dtype=object), 16, 1)"
      ]
     },
     "execution_count": 21,
     "metadata": {},
     "output_type": "execute_result"
    }
   ],
   "source": [
    "eps = 1e-5\n",
    "ortogonal_descent(f, [x1,x2], [-1,1], eps=eps)"
   ]
  },
  {
   "cell_type": "markdown",
   "metadata": {},
   "source": [
    "# Задание 6"
   ]
  },
  {
   "cell_type": "code",
   "execution_count": 22,
   "metadata": {
    "ExecuteTime": {
     "end_time": "2018-09-30T06:03:29.537047Z",
     "start_time": "2018-09-30T06:03:24.508915Z"
    }
   },
   "outputs": [
    {
     "data": {
      "text/plain": [
       "(6.28696244350773e-12,\n",
       " array([0.999997523040986, 0.999997503570673], dtype=object),\n",
       " 560,\n",
       " 26)"
      ]
     },
     "execution_count": 22,
     "metadata": {},
     "output_type": "execute_result"
    }
   ],
   "source": [
    "eps = 1e-3\n",
    "ortogonal_descent(f, [x1,x2], [-2, 1], eps=eps,restart=0)"
   ]
  },
  {
   "cell_type": "code",
   "execution_count": 23,
   "metadata": {
    "ExecuteTime": {
     "end_time": "2018-09-30T06:08:13.207041Z",
     "start_time": "2018-09-30T06:03:29.540048Z"
    }
   },
   "outputs": [
    {
     "data": {
      "text/plain": [
       "(3.70999041248751e-7,\n",
       " array([0.999391219896092, -0.999390237174221], dtype=object),\n",
       " 23850,\n",
       " 2655)"
      ]
     },
     "execution_count": 23,
     "metadata": {},
     "output_type": "execute_result"
    }
   ],
   "source": [
    "eps = 1e-3\n",
    "ortogonal_descent(f, [x1,x2], [-2, 1], eps=eps, restart=1)#, minimizer = lambda x,y,z: iterative_search(x,y,0, oo))"
   ]
  },
  {
   "cell_type": "code",
   "execution_count": 24,
   "metadata": {
    "ExecuteTime": {
     "end_time": "2018-09-30T06:08:27.682307Z",
     "start_time": "2018-09-30T06:08:13.209043Z"
    },
    "scrolled": true
   },
   "outputs": [
    {
     "data": {
      "text/plain": [
       "(2.11970680873075e-7,\n",
       " array([0.999539653798858, -0.999539292883541], dtype=object),\n",
       " 1330,\n",
       " 87)"
      ]
     },
     "execution_count": 24,
     "metadata": {},
     "output_type": "execute_result"
    }
   ],
   "source": [
    "ortogonal_descent(f, [x1,x2], [-2, 1], eps=eps,restart=2)"
   ]
  },
  {
   "cell_type": "code",
   "execution_count": 25,
   "metadata": {
    "ExecuteTime": {
     "end_time": "2018-09-30T06:08:30.244886Z",
     "start_time": "2018-09-30T06:08:27.683308Z"
    }
   },
   "outputs": [
    {
     "data": {
      "text/plain": [
       "(5.16335965377706e-11,\n",
       " array([1.00000669781549, -1.00000656769272], dtype=object),\n",
       " 218,\n",
       " 15)"
      ]
     },
     "execution_count": 25,
     "metadata": {},
     "output_type": "execute_result"
    }
   ],
   "source": [
    "eps = 1e-3\n",
    "ortogonal_descent(f, [x1,x2], [-2, 1], eps=eps,restart=3)"
   ]
  },
  {
   "cell_type": "code",
   "execution_count": 26,
   "metadata": {
    "ExecuteTime": {
     "end_time": "2018-09-30T06:08:38.138665Z",
     "start_time": "2018-09-30T06:08:30.246887Z"
    }
   },
   "outputs": [
    {
     "data": {
      "text/plain": [
       "(9.07357803690489e-11,\n",
       " array([1.00000545611457, -1.00000584651790], dtype=object),\n",
       " 716,\n",
       " 31)"
      ]
     },
     "execution_count": 26,
     "metadata": {},
     "output_type": "execute_result"
    }
   ],
   "source": [
    "eps = 1e-3\n",
    "ortogonal_descent(f, [x1,x2], [-2, 1], eps=eps,restart=4)"
   ]
  },
  {
   "cell_type": "code",
   "execution_count": 27,
   "metadata": {
    "ExecuteTime": {
     "end_time": "2018-09-30T06:08:41.033320Z",
     "start_time": "2018-09-30T06:08:38.140666Z"
    },
    "scrolled": true
   },
   "outputs": [
    {
     "data": {
      "text/plain": [
       "(2.62639633503213e-16,\n",
       " array([0.999999984008835, 0.999999983877284], dtype=object),\n",
       " 298,\n",
       " 15)"
      ]
     },
     "execution_count": 27,
     "metadata": {},
     "output_type": "execute_result"
    }
   ],
   "source": [
    "eps = 1e-3\n",
    "ortogonal_descent(f, [x1,x2], [-2, 1], eps=eps,restart=5)"
   ]
  },
  {
   "cell_type": "code",
   "execution_count": null,
   "metadata": {},
   "outputs": [],
   "source": []
  },
  {
   "cell_type": "code",
   "execution_count": null,
   "metadata": {},
   "outputs": [],
   "source": []
  },
  {
   "cell_type": "code",
   "execution_count": null,
   "metadata": {},
   "outputs": [],
   "source": []
  },
  {
   "cell_type": "code",
   "execution_count": null,
   "metadata": {},
   "outputs": [],
   "source": []
  }
 ],
 "metadata": {
  "kernelspec": {
   "display_name": "Python 3",
   "language": "python",
   "name": "python3"
  },
  "latex_envs": {
   "LaTeX_envs_menu_present": true,
   "autoclose": false,
   "autocomplete": true,
   "bibliofile": "biblio.bib",
   "cite_by": "apalike",
   "current_citInitial": 1,
   "eqLabelWithNumbers": true,
   "eqNumInitial": 1,
   "hotkeys": {
    "equation": "Ctrl-E",
    "itemize": "Ctrl-I"
   },
   "labels_anchors": false,
   "latex_user_defs": false,
   "report_style_numbering": false,
   "user_envs_cfg": false
  },
  "varInspector": {
   "cols": {
    "lenName": 16,
    "lenType": 16,
    "lenVar": 40
   },
   "kernels_config": {
    "python": {
     "delete_cmd_postfix": "",
     "delete_cmd_prefix": "del ",
     "library": "var_list.py",
     "varRefreshCmd": "print(var_dic_list())"
    },
    "r": {
     "delete_cmd_postfix": ") ",
     "delete_cmd_prefix": "rm(",
     "library": "var_list.r",
     "varRefreshCmd": "cat(var_dic_list()) "
    }
   },
   "types_to_exclude": [
    "module",
    "function",
    "builtin_function_or_method",
    "instance",
    "_Feature"
   ],
   "window_display": false
  }
 },
 "nbformat": 4,
 "nbformat_minor": 2
}
