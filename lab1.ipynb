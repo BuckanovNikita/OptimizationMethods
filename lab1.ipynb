{
 "cells": [
  {
   "cell_type": "markdown",
   "metadata": {},
   "source": [
    "# Лабораторная 1"
   ]
  },
  {
   "cell_type": "code",
   "execution_count": 1,
   "metadata": {
    "ExecuteTime": {
     "end_time": "2018-10-03T11:50:50.472661Z",
     "start_time": "2018-10-03T11:50:50.359637Z"
    }
   },
   "outputs": [],
   "source": [
    "import numpy as np"
   ]
  },
  {
   "cell_type": "code",
   "execution_count": 2,
   "metadata": {
    "ExecuteTime": {
     "end_time": "2018-10-03T11:50:50.478663Z",
     "start_time": "2018-10-03T11:50:50.474662Z"
    }
   },
   "outputs": [],
   "source": [
    "def bruteforce(f, a, b, eps):\n",
    "    x = np.linspace(a,b,int((b-a)/eps))\n",
    "    return f(x[np.argmin(f(x))]), x[np.argmin(f(x))], (b-a)/eps"
   ]
  },
  {
   "cell_type": "code",
   "execution_count": 3,
   "metadata": {
    "ExecuteTime": {
     "end_time": "2018-10-03T11:50:50.492666Z",
     "start_time": "2018-10-03T11:50:50.481669Z"
    }
   },
   "outputs": [],
   "source": [
    "def iterative_search(f, a, b, eps, delta = 0.1):\n",
    "    eps = eps/4\n",
    "    x0 = a\n",
    "    x1 = min(b, a+delta)\n",
    "    i = 0\n",
    "    while eps<abs(delta):\n",
    "        while f(x1)<f(x0) and x1<b and x1>a:\n",
    "            x0 = x1\n",
    "            x1 = min(b, x1+delta)\n",
    "            i = i + 1\n",
    "        delta = -delta/4\n",
    "    return f(x1), x1, i"
   ]
  },
  {
   "cell_type": "code",
   "execution_count": 4,
   "metadata": {
    "ExecuteTime": {
     "end_time": "2018-10-03T11:50:50.503670Z",
     "start_time": "2018-10-03T11:50:50.494668Z"
    }
   },
   "outputs": [],
   "source": [
    "def split_search(f, a, b, eps, k=0, s = 1.4):\n",
    "    if (b-a)/2<eps:\n",
    "        return f((a+b)/2), (a+b)/2, k\n",
    "    delta = s*eps\n",
    "    x1 = (b+a-delta)/2\n",
    "    x2 = (b+a+delta)/2\n",
    "    if f(x1)<=f(x2):\n",
    "        return split_search(f,a,x2,eps, k+1, s)\n",
    "    else:\n",
    "        return split_search(f,x1,b,eps, k+1, s)"
   ]
  },
  {
   "cell_type": "code",
   "execution_count": 5,
   "metadata": {
    "ExecuteTime": {
     "end_time": "2018-10-03T11:50:50.516672Z",
     "start_time": "2018-10-03T11:50:50.505669Z"
    }
   },
   "outputs": [],
   "source": [
    "def golden_split_search(f, a, b, eps):\n",
    "    tau = (np.sqrt(5)-1)/2\n",
    "    x2 = a + tau*(b-a)\n",
    "    x1 = a+b-x2\n",
    "    f1 = f(x1)\n",
    "    f2 = f(x2)\n",
    "    t = 0\n",
    "    while eps < (b-a)/2: \n",
    "        if f(x1)<=f(x2):\n",
    "            b = x2\n",
    "            x2 = x1\n",
    "            x1 = a+b-x1\n",
    "        else:\n",
    "            a = x1\n",
    "            x1 = x2\n",
    "            x2 = a+b-x2\n",
    "        t = t+1\n",
    "    return f((a+b)/2), (a+b)/2, t"
   ]
  },
  {
   "cell_type": "code",
   "execution_count": 6,
   "metadata": {
    "ExecuteTime": {
     "end_time": "2018-10-03T11:50:50.525676Z",
     "start_time": "2018-10-03T11:50:50.517671Z"
    }
   },
   "outputs": [],
   "source": [
    "def interpolation_search(f, a, b, eps):\n",
    "    while True:\n",
    "        x1 = a + np.random.rand()*(b-a)\n",
    "        x2 = a + np.random.rand()*(b-a)\n",
    "        x3 = a + np.random.rand()*(b-a)\n",
    "        if x1<x2<x3 and f(x2)<f(x3) and f(x2)<f(x1):\n",
    "            break\n",
    "    delta = 2*eps\n",
    "    x_min = 1e20\n",
    "    x_min_1 = 0\n",
    "    t = 0\n",
    "    while eps<delta:\n",
    "        f1 = f(x1)\n",
    "        f2 = f(x2)\n",
    "        f3 = f(x3)\n",
    "        a1 = (f2-f1)/(x2-x1)\n",
    "        a2 = ((f3-f1)/(x3-x1) - (f2-f1)/(x2-x1))/(x3-x2)\n",
    "        x_min_1 = x_min\n",
    "        x_min = (x1+x2-a1/a2)/2\n",
    "        if x_min<x2:\n",
    "            if f2<f(x_min):\n",
    "                x1 = x_min\n",
    "            else:\n",
    "                x3 = x2\n",
    "                x2 = x_min\n",
    "        else:\n",
    "            if f2<f(x_min):\n",
    "                x3 = x_min\n",
    "            else:\n",
    "                x1 = x2\n",
    "                x2 = x_min\n",
    "        delta = abs(x_min - x_min_1)\n",
    "        t = t + 1\n",
    "    return f(x_min), x_min, t"
   ]
  },
  {
   "cell_type": "code",
   "execution_count": 7,
   "metadata": {
    "ExecuteTime": {
     "end_time": "2018-10-03T11:50:50.769738Z",
     "start_time": "2018-10-03T11:50:50.527676Z"
    }
   },
   "outputs": [],
   "source": [
    "import matplotlib.pyplot as plt\n",
    "%matplotlib notebook"
   ]
  },
  {
   "cell_type": "code",
   "execution_count": 8,
   "metadata": {
    "ExecuteTime": {
     "end_time": "2018-10-03T11:50:50.946771Z",
     "start_time": "2018-10-03T11:50:50.772730Z"
    }
   },
   "outputs": [
    {
     "data": {
      "image/png": "[encoded data removed]",
      "text/plain": [
       "<Figure size 432x288 with 1 Axes>"
      ]
     },
     "metadata": {
      "needs_background": "light"
     },
     "output_type": "display_data"
    }
   ],
   "source": [
    "q = np.linspace(-1, 0, 1000)\n",
    "plt.figure()\n",
    "plt.plot(q, q**4+q**2+q+1)\n",
    "plt.grid()"
   ]
  },
  {
   "cell_type": "markdown",
   "metadata": {},
   "source": [
    "## Задание 2\n",
    "минимизация функции $ x^4 + x^2 + x + 1$ "
   ]
  },
  {
   "cell_type": "code",
   "execution_count": 9,
   "metadata": {
    "ExecuteTime": {
     "end_time": "2018-10-03T11:50:50.960771Z",
     "start_time": "2018-10-03T11:50:50.949773Z"
    }
   },
   "outputs": [
    {
     "data": {
      "text/plain": [
       "(0.7851952539002883, -0.3854385438543855, 10000.0)"
      ]
     },
     "execution_count": 9,
     "metadata": {},
     "output_type": "execute_result"
    }
   ],
   "source": [
    "bruteforce(lambda x: x**4+x**2+x+1, -1.0, 0.0, 1e-4)"
   ]
  },
  {
   "cell_type": "code",
   "execution_count": 10,
   "metadata": {
    "ExecuteTime": {
     "end_time": "2018-10-03T11:50:50.968775Z",
     "start_time": "2018-10-03T11:50:50.962772Z"
    }
   },
   "outputs": [
    {
     "data": {
      "text/plain": [
       "(0.78525136, -0.37999999999999945, 61)"
      ]
     },
     "execution_count": 10,
     "metadata": {},
     "output_type": "execute_result"
    }
   ],
   "source": [
    "iterative_search(lambda x: x**4+x**2+x+1, -1.0, 0.0, 1e-4, 0.01)"
   ]
  },
  {
   "cell_type": "code",
   "execution_count": 11,
   "metadata": {
    "ExecuteTime": {
     "end_time": "2018-10-03T11:50:50.982779Z",
     "start_time": "2018-10-03T11:50:50.970777Z"
    }
   },
   "outputs": [
    {
     "data": {
      "text/plain": [
       "(0.7851952533291174, -0.38546830718994146, 15)"
      ]
     },
     "execution_count": 11,
     "metadata": {},
     "output_type": "execute_result"
    }
   ],
   "source": [
    "split_search(lambda x: x**4+x**2+x+1, -1.0, 0.0, 1e-4)"
   ]
  },
  {
   "cell_type": "code",
   "execution_count": 12,
   "metadata": {
    "ExecuteTime": {
     "end_time": "2018-10-03T11:50:50.996781Z",
     "start_time": "2018-10-03T11:50:50.983779Z"
    }
   },
   "outputs": [
    {
     "data": {
      "text/plain": [
       "(0.7851952539264693, -0.3854381999831844, 18)"
      ]
     },
     "execution_count": 12,
     "metadata": {},
     "output_type": "execute_result"
    }
   ],
   "source": [
    "golden_split_search(lambda x: x**4+x**2+x+1, -1.0, 0.0, 1e-4)"
   ]
  },
  {
   "cell_type": "code",
   "execution_count": 13,
   "metadata": {
    "ExecuteTime": {
     "end_time": "2018-10-03T11:50:51.008783Z",
     "start_time": "2018-10-03T11:50:50.998782Z"
    }
   },
   "outputs": [
    {
     "data": {
      "text/plain": [
       "(0.7851952531528434, -0.3854567617642054, 5)"
      ]
     },
     "execution_count": 13,
     "metadata": {},
     "output_type": "execute_result"
    }
   ],
   "source": [
    "interpolation_search(lambda x: x**4+x**2+x+1, -1.0, 0.0, 1e-4)"
   ]
  },
  {
   "cell_type": "code",
   "execution_count": 14,
   "metadata": {
    "ExecuteTime": {
     "end_time": "2018-10-03T11:50:51.199836Z",
     "start_time": "2018-10-03T11:50:51.011784Z"
    }
   },
   "outputs": [
    {
     "data": {
      "text/plain": [
       "      fun: array([0.78519525])\n",
       " hess_inv: <1x1 LbfgsInvHessProduct with dtype=float64>\n",
       "      jac: array([-4.5519144e-07])\n",
       "  message: b'CONVERGENCE: NORM_OF_PROJECTED_GRADIENT_<=_PGTOL'\n",
       "     nfev: 14\n",
       "      nit: 5\n",
       "   status: 0\n",
       "  success: True\n",
       "        x: array([-0.38545862])"
      ]
     },
     "execution_count": 14,
     "metadata": {},
     "output_type": "execute_result"
    }
   ],
   "source": [
    "from scipy.optimize import minimize\n",
    "minimize(lambda x: x**4+x**2+x+1, [0.5], bounds =[(-1,0)])"
   ]
  },
  {
   "cell_type": "markdown",
   "metadata": {},
   "source": [
    "## Задание 5\n",
    "количество шагов для достижения точности $1/10^4$\n",
    "\n",
    "перебор: $10^4$\n",
    "\n",
    "поразрядный поиск: ~60\n",
    "\n",
    "\n",
    "метод дихотомиии: 15\n",
    "\n",
    "метод золотого сечения: 19\n",
    "\n",
    "метод парабол: ~10"
   ]
  },
  {
   "cell_type": "markdown",
   "metadata": {},
   "source": [
    "## Задание 6\n",
    "минимизация функции $ e^x-1-x-x^2-\\frac{x^3}{6}$"
   ]
  },
  {
   "cell_type": "code",
   "execution_count": 26,
   "metadata": {
    "ExecuteTime": {
     "end_time": "2018-10-03T11:53:43.481353Z",
     "start_time": "2018-10-03T11:53:43.477353Z"
    }
   },
   "outputs": [],
   "source": [
    "def f(x):\n",
    "    return np.exp(x)-1-x-x**2/2-x**3/6"
   ]
  },
  {
   "cell_type": "code",
   "execution_count": 31,
   "metadata": {
    "ExecuteTime": {
     "end_time": "2018-10-03T11:55:29.502750Z",
     "start_time": "2018-10-03T11:55:29.385723Z"
    }
   },
   "outputs": [
    {
     "data": {
      "image/png": "[encoded data removed]",
      "text/plain": [
       "<Figure size 432x288 with 1 Axes>"
      ]
     },
     "metadata": {
      "needs_background": "light"
     },
     "output_type": "display_data"
    }
   ],
   "source": [
    "q = np.linspace(-5, 5, 10000)\n",
    "plt.figure()\n",
    "plt.plot(q, f(q))\n",
    "plt.grid()"
   ]
  },
  {
   "cell_type": "code",
   "execution_count": 32,
   "metadata": {
    "ExecuteTime": {
     "end_time": "2018-10-03T11:55:29.680790Z",
     "start_time": "2018-10-03T11:55:29.676789Z"
    }
   },
   "outputs": [
    {
     "data": {
      "text/plain": [
       "(2.1074933718930816e-16, 0.0002227017885036986, 23)"
      ]
     },
     "execution_count": 32,
     "metadata": {},
     "output_type": "execute_result"
    }
   ],
   "source": [
    "golden_split_search(lambda x: np.exp(x)-1-x-x**2/2-x**3/6, -5.0, 5.0, 1e-4)"
   ]
  },
  {
   "cell_type": "code",
   "execution_count": 33,
   "metadata": {
    "ExecuteTime": {
     "end_time": "2018-10-03T11:55:30.108084Z",
     "start_time": "2018-10-03T11:55:30.099086Z"
    }
   },
   "outputs": [
    {
     "data": {
      "text/plain": [
       "(5.163655426720863e-07, -0.059508530521636134, 200)"
      ]
     },
     "execution_count": 33,
     "metadata": {},
     "output_type": "execute_result"
    }
   ],
   "source": [
    "interpolation_search(lambda x: np.exp(x)-1-x-x**2/2-x**3/6, -5.0, 5.0, 1e-4)"
   ]
  },
  {
   "cell_type": "code",
   "execution_count": null,
   "metadata": {},
   "outputs": [],
   "source": []
  }
 ],
 "metadata": {
  "kernelspec": {
   "display_name": "Python 3",
   "language": "python",
   "name": "python3"
  },
  "language_info": {
   "codemirror_mode": {
    "name": "ipython",
    "version": 3
   },
   "file_extension": ".py",
   "mimetype": "text/x-python",
   "name": "python",
   "nbconvert_exporter": "python",
   "pygments_lexer": "ipython3",
   "version": "3.6.6"
  },
  "latex_envs": {
   "LaTeX_envs_menu_present": true,
   "autoclose": false,
   "autocomplete": true,
   "bibliofile": "biblio.bib",
   "cite_by": "apalike",
   "current_citInitial": 1,
   "eqLabelWithNumbers": true,
   "eqNumInitial": 1,
   "hotkeys": {
    "equation": "Ctrl-E",
    "itemize": "Ctrl-I"
   },
   "labels_anchors": false,
   "latex_user_defs": false,
   "report_style_numbering": false,
   "user_envs_cfg": false
  },
  "varInspector": {
   "cols": {
    "lenName": 16,
    "lenType": 16,
    "lenVar": 40
   },
   "kernels_config": {
    "python": {
     "delete_cmd_postfix": "",
     "delete_cmd_prefix": "del ",
     "library": "var_list.py",
     "varRefreshCmd": "print(var_dic_list())"
    },
    "r": {
     "delete_cmd_postfix": ") ",
     "delete_cmd_prefix": "rm(",
     "library": "var_list.r",
     "varRefreshCmd": "cat(var_dic_list()) "
    }
   },
   "types_to_exclude": [
    "module",
    "function",
    "builtin_function_or_method",
    "instance",
    "_Feature"
   ],
   "window_display": false
  }
 },
 "nbformat": 4,
 "nbformat_minor": 2
}
